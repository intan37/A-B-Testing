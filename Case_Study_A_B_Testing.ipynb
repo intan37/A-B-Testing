{
  "nbformat": 4,
  "nbformat_minor": 0,
  "metadata": {
    "colab": {
      "name": "Case Study - A/B Testing.ipynb",
      "provenance": [],
      "collapsed_sections": [],
      "toc_visible": true
    },
    "kernelspec": {
      "name": "python3",
      "display_name": "Python 3"
    },
    "language_info": {
      "name": "python"
    }
  },
  "cells": [
    {
      "cell_type": "markdown",
      "source": [
        "Nama anggota kelompok :\n",
        "\n",
        "1. Fariz Abdussalam\n",
        "2. Intan Azizah Putri"
      ],
      "metadata": {
        "id": "3clqhTySXITG"
      }
    },
    {
      "cell_type": "markdown",
      "source": [
        "# Install and Load Packages"
      ],
      "metadata": {
        "id": "jIOzUHgOA07e"
      }
    },
    {
      "cell_type": "code",
      "source": [
        "import numpy as np\n",
        "import pandas as pd\n",
        "import matplotlib.pyplot as plt\n",
        "import seaborn as sns\n",
        "\n",
        "from statsmodels.stats.power import TTestPower, TTestIndPower, GofChisquarePower\n",
        "from statsmodels.stats.proportion import proportions_chisquare\n",
        "from statsmodels.stats.weightstats import ttest_ind\n",
        "import statsmodels.api as sm\n",
        "\n",
        "import scipy.stats"
      ],
      "metadata": {
        "id": "5rPrTYWrXPJ9"
      },
      "execution_count": null,
      "outputs": []
    },
    {
      "cell_type": "markdown",
      "source": [
        "# Load Dataset"
      ],
      "metadata": {
        "id": "BBATVim3XpRX"
      }
    },
    {
      "cell_type": "code",
      "source": [
        "raw_data = pd.read_csv(\"https://raw.githubusercontent.com/hadimaster65555/dataset_for_teaching/main/dataset/marketing_campaign_experiment/marketing-clean.csv\")"
      ],
      "metadata": {
        "id": "krwQzxDaXqdk"
      },
      "execution_count": null,
      "outputs": []
    },
    {
      "cell_type": "markdown",
      "source": [
        "**Data Inspection and Exploration**"
      ],
      "metadata": {
        "id": "wMM8Hby2eSEG"
      }
    },
    {
      "cell_type": "markdown",
      "source": [
        "Check null values inside data"
      ],
      "metadata": {
        "id": "QGVhg7MoeVvz"
      }
    },
    {
      "cell_type": "code",
      "source": [
        "raw_data.isna().sum()"
      ],
      "metadata": {
        "colab": {
          "base_uri": "https://localhost:8080/"
        },
        "id": "jqb0jYWieWlT",
        "outputId": "c9b4d672-51ea-4793-d0b2-e1e04ebd02cd"
      },
      "execution_count": null,
      "outputs": [
        {
          "output_type": "execute_result",
          "data": {
            "text/plain": [
              "user_id                0\n",
              "date_served            0\n",
              "marketing_channel      0\n",
              "variant                0\n",
              "converted              0\n",
              "language_displayed     0\n",
              "language_preferred     0\n",
              "age_group              0\n",
              "date_subscribed        0\n",
              "date_canceled          0\n",
              "subscribing_channel    0\n",
              "is_retained            0\n",
              "conversion             0\n",
              "dtype: int64"
            ]
          },
          "metadata": {},
          "execution_count": 204
        }
      ]
    },
    {
      "cell_type": "code",
      "source": [
        "cat = raw_data.select_dtypes(include=['object']).columns.tolist()"
      ],
      "metadata": {
        "id": "OOkkclLlGEsw"
      },
      "execution_count": null,
      "outputs": []
    },
    {
      "cell_type": "code",
      "source": [
        "raw_data[\"user_id\"].value_counts().head()"
      ],
      "metadata": {
        "colab": {
          "base_uri": "https://localhost:8080/"
        },
        "id": "uTAdizR9Erm-",
        "outputId": "3c26035e-6ddc-4c8a-db3d-c09419e8ad54"
      },
      "execution_count": null,
      "outputs": [
        {
          "output_type": "execute_result",
          "data": {
            "text/plain": [
              "a100000894    5\n",
              "a100000893    5\n",
              "a100000888    5\n",
              "a100000889    5\n",
              "a100000890    5\n",
              "Name: user_id, dtype: int64"
            ]
          },
          "metadata": {},
          "execution_count": 207
        }
      ]
    },
    {
      "cell_type": "markdown",
      "source": [
        " Satu user bisa memiliki lebih dari 1 aktivitas di marketing channel yang sama untuk satu hari, untuk itu kita harus process agar kita memastikan bahwa satu user hanya ada satu aktivitas untuk satu marketing channel untuk satu variant dalam satu hari. diambil yang paling terakhir\n"
      ],
      "metadata": {
        "id": "9CQuHMODE0oD"
      }
    },
    {
      "cell_type": "code",
      "source": [
        "#example: user dengan jumlah visit ke satu marketing channel yang sama untuk sehari, untuk data2 seperti ini kita treat agar perhitungan jumlah usernya tidak salah\n",
        "raw_data.loc[raw_data[\"user_id\"]==\"a100000894\"]"
      ],
      "metadata": {
        "colab": {
          "base_uri": "https://localhost:8080/",
          "height": 270
        },
        "id": "Mhchtf0NKEwu",
        "outputId": "f5a5c5d9-609d-4756-fcb9-9ded2c44862d"
      },
      "execution_count": null,
      "outputs": [
        {
          "output_type": "execute_result",
          "data": {
            "text/plain": [
              "        user_id date_served marketing_channel  variant  converted  \\\n",
              "332  a100000894      1/8/18         Instagram  control       True   \n",
              "333  a100000894     1/12/18         Instagram  control       True   \n",
              "334  a100000894      1/3/18         House Ads  control      False   \n",
              "335  a100000894      1/3/18         House Ads  control      False   \n",
              "336  a100000894      1/3/18         House Ads  control      False   \n",
              "\n",
              "    language_displayed language_preferred    age_group date_subscribed  \\\n",
              "332            English            English  24-30 years          1/8/18   \n",
              "333            English            English  30-36 years          1/8/18   \n",
              "334            English            English  30-36 years          1/8/18   \n",
              "335            English            English  24-30 years          1/8/18   \n",
              "336            English            English  30-36 years          1/8/18   \n",
              "\n",
              "    date_canceled subscribing_channel  is_retained  conversion  \n",
              "332        4/2/18           Instagram        False           1  \n",
              "333        4/2/18           Instagram        False           1  \n",
              "334        4/2/18           Instagram        False           0  \n",
              "335        4/2/18           Instagram        False           0  \n",
              "336        4/2/18           Instagram        False           0  "
            ],
            "text/html": [
              "\n",
              "  <div id=\"df-753cd3df-74b5-499e-a58e-426a1a1d4ef2\">\n",
              "    <div class=\"colab-df-container\">\n",
              "      <div>\n",
              "<style scoped>\n",
              "    .dataframe tbody tr th:only-of-type {\n",
              "        vertical-align: middle;\n",
              "    }\n",
              "\n",
              "    .dataframe tbody tr th {\n",
              "        vertical-align: top;\n",
              "    }\n",
              "\n",
              "    .dataframe thead th {\n",
              "        text-align: right;\n",
              "    }\n",
              "</style>\n",
              "<table border=\"1\" class=\"dataframe\">\n",
              "  <thead>\n",
              "    <tr style=\"text-align: right;\">\n",
              "      <th></th>\n",
              "      <th>user_id</th>\n",
              "      <th>date_served</th>\n",
              "      <th>marketing_channel</th>\n",
              "      <th>variant</th>\n",
              "      <th>converted</th>\n",
              "      <th>language_displayed</th>\n",
              "      <th>language_preferred</th>\n",
              "      <th>age_group</th>\n",
              "      <th>date_subscribed</th>\n",
              "      <th>date_canceled</th>\n",
              "      <th>subscribing_channel</th>\n",
              "      <th>is_retained</th>\n",
              "      <th>conversion</th>\n",
              "    </tr>\n",
              "  </thead>\n",
              "  <tbody>\n",
              "    <tr>\n",
              "      <th>332</th>\n",
              "      <td>a100000894</td>\n",
              "      <td>1/8/18</td>\n",
              "      <td>Instagram</td>\n",
              "      <td>control</td>\n",
              "      <td>True</td>\n",
              "      <td>English</td>\n",
              "      <td>English</td>\n",
              "      <td>24-30 years</td>\n",
              "      <td>1/8/18</td>\n",
              "      <td>4/2/18</td>\n",
              "      <td>Instagram</td>\n",
              "      <td>False</td>\n",
              "      <td>1</td>\n",
              "    </tr>\n",
              "    <tr>\n",
              "      <th>333</th>\n",
              "      <td>a100000894</td>\n",
              "      <td>1/12/18</td>\n",
              "      <td>Instagram</td>\n",
              "      <td>control</td>\n",
              "      <td>True</td>\n",
              "      <td>English</td>\n",
              "      <td>English</td>\n",
              "      <td>30-36 years</td>\n",
              "      <td>1/8/18</td>\n",
              "      <td>4/2/18</td>\n",
              "      <td>Instagram</td>\n",
              "      <td>False</td>\n",
              "      <td>1</td>\n",
              "    </tr>\n",
              "    <tr>\n",
              "      <th>334</th>\n",
              "      <td>a100000894</td>\n",
              "      <td>1/3/18</td>\n",
              "      <td>House Ads</td>\n",
              "      <td>control</td>\n",
              "      <td>False</td>\n",
              "      <td>English</td>\n",
              "      <td>English</td>\n",
              "      <td>30-36 years</td>\n",
              "      <td>1/8/18</td>\n",
              "      <td>4/2/18</td>\n",
              "      <td>Instagram</td>\n",
              "      <td>False</td>\n",
              "      <td>0</td>\n",
              "    </tr>\n",
              "    <tr>\n",
              "      <th>335</th>\n",
              "      <td>a100000894</td>\n",
              "      <td>1/3/18</td>\n",
              "      <td>House Ads</td>\n",
              "      <td>control</td>\n",
              "      <td>False</td>\n",
              "      <td>English</td>\n",
              "      <td>English</td>\n",
              "      <td>24-30 years</td>\n",
              "      <td>1/8/18</td>\n",
              "      <td>4/2/18</td>\n",
              "      <td>Instagram</td>\n",
              "      <td>False</td>\n",
              "      <td>0</td>\n",
              "    </tr>\n",
              "    <tr>\n",
              "      <th>336</th>\n",
              "      <td>a100000894</td>\n",
              "      <td>1/3/18</td>\n",
              "      <td>House Ads</td>\n",
              "      <td>control</td>\n",
              "      <td>False</td>\n",
              "      <td>English</td>\n",
              "      <td>English</td>\n",
              "      <td>30-36 years</td>\n",
              "      <td>1/8/18</td>\n",
              "      <td>4/2/18</td>\n",
              "      <td>Instagram</td>\n",
              "      <td>False</td>\n",
              "      <td>0</td>\n",
              "    </tr>\n",
              "  </tbody>\n",
              "</table>\n",
              "</div>\n",
              "      <button class=\"colab-df-convert\" onclick=\"convertToInteractive('df-753cd3df-74b5-499e-a58e-426a1a1d4ef2')\"\n",
              "              title=\"Convert this dataframe to an interactive table.\"\n",
              "              style=\"display:none;\">\n",
              "        \n",
              "  <svg xmlns=\"http://www.w3.org/2000/svg\" height=\"24px\"viewBox=\"0 0 24 24\"\n",
              "       width=\"24px\">\n",
              "    <path d=\"M0 0h24v24H0V0z\" fill=\"none\"/>\n",
              "    <path d=\"M18.56 5.44l.94 2.06.94-2.06 2.06-.94-2.06-.94-.94-2.06-.94 2.06-2.06.94zm-11 1L8.5 8.5l.94-2.06 2.06-.94-2.06-.94L8.5 2.5l-.94 2.06-2.06.94zm10 10l.94 2.06.94-2.06 2.06-.94-2.06-.94-.94-2.06-.94 2.06-2.06.94z\"/><path d=\"M17.41 7.96l-1.37-1.37c-.4-.4-.92-.59-1.43-.59-.52 0-1.04.2-1.43.59L10.3 9.45l-7.72 7.72c-.78.78-.78 2.05 0 2.83L4 21.41c.39.39.9.59 1.41.59.51 0 1.02-.2 1.41-.59l7.78-7.78 2.81-2.81c.8-.78.8-2.07 0-2.86zM5.41 20L4 18.59l7.72-7.72 1.47 1.35L5.41 20z\"/>\n",
              "  </svg>\n",
              "      </button>\n",
              "      \n",
              "  <style>\n",
              "    .colab-df-container {\n",
              "      display:flex;\n",
              "      flex-wrap:wrap;\n",
              "      gap: 12px;\n",
              "    }\n",
              "\n",
              "    .colab-df-convert {\n",
              "      background-color: #E8F0FE;\n",
              "      border: none;\n",
              "      border-radius: 50%;\n",
              "      cursor: pointer;\n",
              "      display: none;\n",
              "      fill: #1967D2;\n",
              "      height: 32px;\n",
              "      padding: 0 0 0 0;\n",
              "      width: 32px;\n",
              "    }\n",
              "\n",
              "    .colab-df-convert:hover {\n",
              "      background-color: #E2EBFA;\n",
              "      box-shadow: 0px 1px 2px rgba(60, 64, 67, 0.3), 0px 1px 3px 1px rgba(60, 64, 67, 0.15);\n",
              "      fill: #174EA6;\n",
              "    }\n",
              "\n",
              "    [theme=dark] .colab-df-convert {\n",
              "      background-color: #3B4455;\n",
              "      fill: #D2E3FC;\n",
              "    }\n",
              "\n",
              "    [theme=dark] .colab-df-convert:hover {\n",
              "      background-color: #434B5C;\n",
              "      box-shadow: 0px 1px 3px 1px rgba(0, 0, 0, 0.15);\n",
              "      filter: drop-shadow(0px 1px 2px rgba(0, 0, 0, 0.3));\n",
              "      fill: #FFFFFF;\n",
              "    }\n",
              "  </style>\n",
              "\n",
              "      <script>\n",
              "        const buttonEl =\n",
              "          document.querySelector('#df-753cd3df-74b5-499e-a58e-426a1a1d4ef2 button.colab-df-convert');\n",
              "        buttonEl.style.display =\n",
              "          google.colab.kernel.accessAllowed ? 'block' : 'none';\n",
              "\n",
              "        async function convertToInteractive(key) {\n",
              "          const element = document.querySelector('#df-753cd3df-74b5-499e-a58e-426a1a1d4ef2');\n",
              "          const dataTable =\n",
              "            await google.colab.kernel.invokeFunction('convertToInteractive',\n",
              "                                                     [key], {});\n",
              "          if (!dataTable) return;\n",
              "\n",
              "          const docLinkHtml = 'Like what you see? Visit the ' +\n",
              "            '<a target=\"_blank\" href=https://colab.research.google.com/notebooks/data_table.ipynb>data table notebook</a>'\n",
              "            + ' to learn more about interactive tables.';\n",
              "          element.innerHTML = '';\n",
              "          dataTable['output_type'] = 'display_data';\n",
              "          await google.colab.output.renderOutput(dataTable, element);\n",
              "          const docLink = document.createElement('div');\n",
              "          docLink.innerHTML = docLinkHtml;\n",
              "          element.appendChild(docLink);\n",
              "        }\n",
              "      </script>\n",
              "    </div>\n",
              "  </div>\n",
              "  "
            ]
          },
          "metadata": {},
          "execution_count": 208
        }
      ]
    },
    {
      "cell_type": "code",
      "source": [
        "#get latest activity per user, per day, per marketing channel, per variant\n",
        "latest_activity = raw_data.groupby(['user_id', 'date_served','marketing_channel','variant']).last().reset_index()"
      ],
      "metadata": {
        "id": "FMPnKqFHLt9r"
      },
      "execution_count": null,
      "outputs": []
    },
    {
      "cell_type": "code",
      "source": [
        "latest_activity.head()"
      ],
      "metadata": {
        "id": "xUT3qLXQMJG9",
        "outputId": "c8baeefb-51c9-4897-81cb-7c8f4324b1d0",
        "colab": {
          "base_uri": "https://localhost:8080/",
          "height": 270
        }
      },
      "execution_count": null,
      "outputs": [
        {
          "output_type": "execute_result",
          "data": {
            "text/plain": [
              "      user_id date_served marketing_channel          variant  converted  \\\n",
              "0  a100000040      1/1/18         House Ads  personalization       True   \n",
              "1  a100000041      1/1/18         House Ads  personalization       True   \n",
              "2  a100000042      1/1/18         House Ads  personalization       True   \n",
              "3  a100000043      1/1/18         House Ads  personalization       True   \n",
              "4  a100000044      1/1/18         House Ads  personalization       True   \n",
              "\n",
              "  language_displayed language_preferred    age_group date_subscribed  \\\n",
              "0            English            English  19-24 years          1/1/18   \n",
              "1             Arabic             Arabic  24-30 years          1/1/18   \n",
              "2            English            English   0-18 years          1/1/18   \n",
              "3            English            English  19-24 years          1/1/18   \n",
              "4             Arabic             Arabic  24-30 years          1/1/18   \n",
              "\n",
              "  date_canceled subscribing_channel  is_retained  conversion  \n",
              "0       1/18/18           House Ads        False           1  \n",
              "1       2/22/18           House Ads        False           1  \n",
              "2        3/9/18           House Ads        False           1  \n",
              "3       2/18/18           House Ads        False           1  \n",
              "4        3/3/18           House Ads        False           1  "
            ],
            "text/html": [
              "\n",
              "  <div id=\"df-f23fc662-3805-4aba-bf86-ef917c669f06\">\n",
              "    <div class=\"colab-df-container\">\n",
              "      <div>\n",
              "<style scoped>\n",
              "    .dataframe tbody tr th:only-of-type {\n",
              "        vertical-align: middle;\n",
              "    }\n",
              "\n",
              "    .dataframe tbody tr th {\n",
              "        vertical-align: top;\n",
              "    }\n",
              "\n",
              "    .dataframe thead th {\n",
              "        text-align: right;\n",
              "    }\n",
              "</style>\n",
              "<table border=\"1\" class=\"dataframe\">\n",
              "  <thead>\n",
              "    <tr style=\"text-align: right;\">\n",
              "      <th></th>\n",
              "      <th>user_id</th>\n",
              "      <th>date_served</th>\n",
              "      <th>marketing_channel</th>\n",
              "      <th>variant</th>\n",
              "      <th>converted</th>\n",
              "      <th>language_displayed</th>\n",
              "      <th>language_preferred</th>\n",
              "      <th>age_group</th>\n",
              "      <th>date_subscribed</th>\n",
              "      <th>date_canceled</th>\n",
              "      <th>subscribing_channel</th>\n",
              "      <th>is_retained</th>\n",
              "      <th>conversion</th>\n",
              "    </tr>\n",
              "  </thead>\n",
              "  <tbody>\n",
              "    <tr>\n",
              "      <th>0</th>\n",
              "      <td>a100000040</td>\n",
              "      <td>1/1/18</td>\n",
              "      <td>House Ads</td>\n",
              "      <td>personalization</td>\n",
              "      <td>True</td>\n",
              "      <td>English</td>\n",
              "      <td>English</td>\n",
              "      <td>19-24 years</td>\n",
              "      <td>1/1/18</td>\n",
              "      <td>1/18/18</td>\n",
              "      <td>House Ads</td>\n",
              "      <td>False</td>\n",
              "      <td>1</td>\n",
              "    </tr>\n",
              "    <tr>\n",
              "      <th>1</th>\n",
              "      <td>a100000041</td>\n",
              "      <td>1/1/18</td>\n",
              "      <td>House Ads</td>\n",
              "      <td>personalization</td>\n",
              "      <td>True</td>\n",
              "      <td>Arabic</td>\n",
              "      <td>Arabic</td>\n",
              "      <td>24-30 years</td>\n",
              "      <td>1/1/18</td>\n",
              "      <td>2/22/18</td>\n",
              "      <td>House Ads</td>\n",
              "      <td>False</td>\n",
              "      <td>1</td>\n",
              "    </tr>\n",
              "    <tr>\n",
              "      <th>2</th>\n",
              "      <td>a100000042</td>\n",
              "      <td>1/1/18</td>\n",
              "      <td>House Ads</td>\n",
              "      <td>personalization</td>\n",
              "      <td>True</td>\n",
              "      <td>English</td>\n",
              "      <td>English</td>\n",
              "      <td>0-18 years</td>\n",
              "      <td>1/1/18</td>\n",
              "      <td>3/9/18</td>\n",
              "      <td>House Ads</td>\n",
              "      <td>False</td>\n",
              "      <td>1</td>\n",
              "    </tr>\n",
              "    <tr>\n",
              "      <th>3</th>\n",
              "      <td>a100000043</td>\n",
              "      <td>1/1/18</td>\n",
              "      <td>House Ads</td>\n",
              "      <td>personalization</td>\n",
              "      <td>True</td>\n",
              "      <td>English</td>\n",
              "      <td>English</td>\n",
              "      <td>19-24 years</td>\n",
              "      <td>1/1/18</td>\n",
              "      <td>2/18/18</td>\n",
              "      <td>House Ads</td>\n",
              "      <td>False</td>\n",
              "      <td>1</td>\n",
              "    </tr>\n",
              "    <tr>\n",
              "      <th>4</th>\n",
              "      <td>a100000044</td>\n",
              "      <td>1/1/18</td>\n",
              "      <td>House Ads</td>\n",
              "      <td>personalization</td>\n",
              "      <td>True</td>\n",
              "      <td>Arabic</td>\n",
              "      <td>Arabic</td>\n",
              "      <td>24-30 years</td>\n",
              "      <td>1/1/18</td>\n",
              "      <td>3/3/18</td>\n",
              "      <td>House Ads</td>\n",
              "      <td>False</td>\n",
              "      <td>1</td>\n",
              "    </tr>\n",
              "  </tbody>\n",
              "</table>\n",
              "</div>\n",
              "      <button class=\"colab-df-convert\" onclick=\"convertToInteractive('df-f23fc662-3805-4aba-bf86-ef917c669f06')\"\n",
              "              title=\"Convert this dataframe to an interactive table.\"\n",
              "              style=\"display:none;\">\n",
              "        \n",
              "  <svg xmlns=\"http://www.w3.org/2000/svg\" height=\"24px\"viewBox=\"0 0 24 24\"\n",
              "       width=\"24px\">\n",
              "    <path d=\"M0 0h24v24H0V0z\" fill=\"none\"/>\n",
              "    <path d=\"M18.56 5.44l.94 2.06.94-2.06 2.06-.94-2.06-.94-.94-2.06-.94 2.06-2.06.94zm-11 1L8.5 8.5l.94-2.06 2.06-.94-2.06-.94L8.5 2.5l-.94 2.06-2.06.94zm10 10l.94 2.06.94-2.06 2.06-.94-2.06-.94-.94-2.06-.94 2.06-2.06.94z\"/><path d=\"M17.41 7.96l-1.37-1.37c-.4-.4-.92-.59-1.43-.59-.52 0-1.04.2-1.43.59L10.3 9.45l-7.72 7.72c-.78.78-.78 2.05 0 2.83L4 21.41c.39.39.9.59 1.41.59.51 0 1.02-.2 1.41-.59l7.78-7.78 2.81-2.81c.8-.78.8-2.07 0-2.86zM5.41 20L4 18.59l7.72-7.72 1.47 1.35L5.41 20z\"/>\n",
              "  </svg>\n",
              "      </button>\n",
              "      \n",
              "  <style>\n",
              "    .colab-df-container {\n",
              "      display:flex;\n",
              "      flex-wrap:wrap;\n",
              "      gap: 12px;\n",
              "    }\n",
              "\n",
              "    .colab-df-convert {\n",
              "      background-color: #E8F0FE;\n",
              "      border: none;\n",
              "      border-radius: 50%;\n",
              "      cursor: pointer;\n",
              "      display: none;\n",
              "      fill: #1967D2;\n",
              "      height: 32px;\n",
              "      padding: 0 0 0 0;\n",
              "      width: 32px;\n",
              "    }\n",
              "\n",
              "    .colab-df-convert:hover {\n",
              "      background-color: #E2EBFA;\n",
              "      box-shadow: 0px 1px 2px rgba(60, 64, 67, 0.3), 0px 1px 3px 1px rgba(60, 64, 67, 0.15);\n",
              "      fill: #174EA6;\n",
              "    }\n",
              "\n",
              "    [theme=dark] .colab-df-convert {\n",
              "      background-color: #3B4455;\n",
              "      fill: #D2E3FC;\n",
              "    }\n",
              "\n",
              "    [theme=dark] .colab-df-convert:hover {\n",
              "      background-color: #434B5C;\n",
              "      box-shadow: 0px 1px 3px 1px rgba(0, 0, 0, 0.15);\n",
              "      filter: drop-shadow(0px 1px 2px rgba(0, 0, 0, 0.3));\n",
              "      fill: #FFFFFF;\n",
              "    }\n",
              "  </style>\n",
              "\n",
              "      <script>\n",
              "        const buttonEl =\n",
              "          document.querySelector('#df-f23fc662-3805-4aba-bf86-ef917c669f06 button.colab-df-convert');\n",
              "        buttonEl.style.display =\n",
              "          google.colab.kernel.accessAllowed ? 'block' : 'none';\n",
              "\n",
              "        async function convertToInteractive(key) {\n",
              "          const element = document.querySelector('#df-f23fc662-3805-4aba-bf86-ef917c669f06');\n",
              "          const dataTable =\n",
              "            await google.colab.kernel.invokeFunction('convertToInteractive',\n",
              "                                                     [key], {});\n",
              "          if (!dataTable) return;\n",
              "\n",
              "          const docLinkHtml = 'Like what you see? Visit the ' +\n",
              "            '<a target=\"_blank\" href=https://colab.research.google.com/notebooks/data_table.ipynb>data table notebook</a>'\n",
              "            + ' to learn more about interactive tables.';\n",
              "          element.innerHTML = '';\n",
              "          dataTable['output_type'] = 'display_data';\n",
              "          await google.colab.output.renderOutput(dataTable, element);\n",
              "          const docLink = document.createElement('div');\n",
              "          docLink.innerHTML = docLinkHtml;\n",
              "          element.appendChild(docLink);\n",
              "        }\n",
              "      </script>\n",
              "    </div>\n",
              "  </div>\n",
              "  "
            ]
          },
          "metadata": {},
          "execution_count": 210
        }
      ]
    },
    {
      "cell_type": "code",
      "source": [
        "latest_activity[\"user_id\"].value_counts().head(n=10)"
      ],
      "metadata": {
        "id": "9b3HbTs2L3zD",
        "outputId": "aee605c4-2731-4c7a-c485-174e9f58e0ba",
        "colab": {
          "base_uri": "https://localhost:8080/"
        }
      },
      "execution_count": null,
      "outputs": [
        {
          "output_type": "execute_result",
          "data": {
            "text/plain": [
              "a100000893    5\n",
              "a100000888    5\n",
              "a100000890    5\n",
              "a100000891    5\n",
              "a100000892    5\n",
              "a100000875    4\n",
              "a100000889    4\n",
              "a100000993    3\n",
              "a100000871    3\n",
              "a100000872    3\n",
              "Name: user_id, dtype: int64"
            ]
          },
          "metadata": {},
          "execution_count": 211
        }
      ]
    },
    {
      "cell_type": "code",
      "source": [
        "#cek apakah data user yang memiliki lebih dari satu baris data itu hanya datang dari masing2 satu marketing channel dengan satu variant\n",
        "latest_activity.loc[raw_data[\"user_id\"]==\"a100000893\"]"
      ],
      "metadata": {
        "colab": {
          "base_uri": "https://localhost:8080/",
          "height": 270
        },
        "id": "T3ZDoZ5wqB71",
        "outputId": "44876f7c-1ece-45e2-f34c-f0657e0092e7"
      },
      "execution_count": null,
      "outputs": [
        {
          "output_type": "execute_result",
          "data": {
            "text/plain": [
              "        user_id date_served marketing_channel  variant  converted  \\\n",
              "327  a100000893      1/2/18          Facebook  control      False   \n",
              "328  a100000893      1/2/18         House Ads  control      False   \n",
              "329  a100000893      1/3/18         House Ads  control      False   \n",
              "330  a100000893      1/7/18         Instagram  control       True   \n",
              "331  a100000894     1/12/18         Instagram  control       True   \n",
              "\n",
              "    language_displayed language_preferred    age_group date_subscribed  \\\n",
              "327            English            English  24-30 years          1/7/18   \n",
              "328            English            English  19-24 years          1/7/18   \n",
              "329            English            English  24-30 years          1/7/18   \n",
              "330            English            English  19-24 years          1/7/18   \n",
              "331            English            English  30-36 years          1/8/18   \n",
              "\n",
              "    date_canceled subscribing_channel  is_retained  conversion  \n",
              "327        4/1/18           Instagram        False           0  \n",
              "328        4/1/18           Instagram        False           0  \n",
              "329        4/1/18           Instagram        False           0  \n",
              "330        4/1/18           Instagram        False           1  \n",
              "331        4/2/18           Instagram        False           1  "
            ],
            "text/html": [
              "\n",
              "  <div id=\"df-b9c32082-6a23-4f82-9bc3-3d3b62f21cfd\">\n",
              "    <div class=\"colab-df-container\">\n",
              "      <div>\n",
              "<style scoped>\n",
              "    .dataframe tbody tr th:only-of-type {\n",
              "        vertical-align: middle;\n",
              "    }\n",
              "\n",
              "    .dataframe tbody tr th {\n",
              "        vertical-align: top;\n",
              "    }\n",
              "\n",
              "    .dataframe thead th {\n",
              "        text-align: right;\n",
              "    }\n",
              "</style>\n",
              "<table border=\"1\" class=\"dataframe\">\n",
              "  <thead>\n",
              "    <tr style=\"text-align: right;\">\n",
              "      <th></th>\n",
              "      <th>user_id</th>\n",
              "      <th>date_served</th>\n",
              "      <th>marketing_channel</th>\n",
              "      <th>variant</th>\n",
              "      <th>converted</th>\n",
              "      <th>language_displayed</th>\n",
              "      <th>language_preferred</th>\n",
              "      <th>age_group</th>\n",
              "      <th>date_subscribed</th>\n",
              "      <th>date_canceled</th>\n",
              "      <th>subscribing_channel</th>\n",
              "      <th>is_retained</th>\n",
              "      <th>conversion</th>\n",
              "    </tr>\n",
              "  </thead>\n",
              "  <tbody>\n",
              "    <tr>\n",
              "      <th>327</th>\n",
              "      <td>a100000893</td>\n",
              "      <td>1/2/18</td>\n",
              "      <td>Facebook</td>\n",
              "      <td>control</td>\n",
              "      <td>False</td>\n",
              "      <td>English</td>\n",
              "      <td>English</td>\n",
              "      <td>24-30 years</td>\n",
              "      <td>1/7/18</td>\n",
              "      <td>4/1/18</td>\n",
              "      <td>Instagram</td>\n",
              "      <td>False</td>\n",
              "      <td>0</td>\n",
              "    </tr>\n",
              "    <tr>\n",
              "      <th>328</th>\n",
              "      <td>a100000893</td>\n",
              "      <td>1/2/18</td>\n",
              "      <td>House Ads</td>\n",
              "      <td>control</td>\n",
              "      <td>False</td>\n",
              "      <td>English</td>\n",
              "      <td>English</td>\n",
              "      <td>19-24 years</td>\n",
              "      <td>1/7/18</td>\n",
              "      <td>4/1/18</td>\n",
              "      <td>Instagram</td>\n",
              "      <td>False</td>\n",
              "      <td>0</td>\n",
              "    </tr>\n",
              "    <tr>\n",
              "      <th>329</th>\n",
              "      <td>a100000893</td>\n",
              "      <td>1/3/18</td>\n",
              "      <td>House Ads</td>\n",
              "      <td>control</td>\n",
              "      <td>False</td>\n",
              "      <td>English</td>\n",
              "      <td>English</td>\n",
              "      <td>24-30 years</td>\n",
              "      <td>1/7/18</td>\n",
              "      <td>4/1/18</td>\n",
              "      <td>Instagram</td>\n",
              "      <td>False</td>\n",
              "      <td>0</td>\n",
              "    </tr>\n",
              "    <tr>\n",
              "      <th>330</th>\n",
              "      <td>a100000893</td>\n",
              "      <td>1/7/18</td>\n",
              "      <td>Instagram</td>\n",
              "      <td>control</td>\n",
              "      <td>True</td>\n",
              "      <td>English</td>\n",
              "      <td>English</td>\n",
              "      <td>19-24 years</td>\n",
              "      <td>1/7/18</td>\n",
              "      <td>4/1/18</td>\n",
              "      <td>Instagram</td>\n",
              "      <td>False</td>\n",
              "      <td>1</td>\n",
              "    </tr>\n",
              "    <tr>\n",
              "      <th>331</th>\n",
              "      <td>a100000894</td>\n",
              "      <td>1/12/18</td>\n",
              "      <td>Instagram</td>\n",
              "      <td>control</td>\n",
              "      <td>True</td>\n",
              "      <td>English</td>\n",
              "      <td>English</td>\n",
              "      <td>30-36 years</td>\n",
              "      <td>1/8/18</td>\n",
              "      <td>4/2/18</td>\n",
              "      <td>Instagram</td>\n",
              "      <td>False</td>\n",
              "      <td>1</td>\n",
              "    </tr>\n",
              "  </tbody>\n",
              "</table>\n",
              "</div>\n",
              "      <button class=\"colab-df-convert\" onclick=\"convertToInteractive('df-b9c32082-6a23-4f82-9bc3-3d3b62f21cfd')\"\n",
              "              title=\"Convert this dataframe to an interactive table.\"\n",
              "              style=\"display:none;\">\n",
              "        \n",
              "  <svg xmlns=\"http://www.w3.org/2000/svg\" height=\"24px\"viewBox=\"0 0 24 24\"\n",
              "       width=\"24px\">\n",
              "    <path d=\"M0 0h24v24H0V0z\" fill=\"none\"/>\n",
              "    <path d=\"M18.56 5.44l.94 2.06.94-2.06 2.06-.94-2.06-.94-.94-2.06-.94 2.06-2.06.94zm-11 1L8.5 8.5l.94-2.06 2.06-.94-2.06-.94L8.5 2.5l-.94 2.06-2.06.94zm10 10l.94 2.06.94-2.06 2.06-.94-2.06-.94-.94-2.06-.94 2.06-2.06.94z\"/><path d=\"M17.41 7.96l-1.37-1.37c-.4-.4-.92-.59-1.43-.59-.52 0-1.04.2-1.43.59L10.3 9.45l-7.72 7.72c-.78.78-.78 2.05 0 2.83L4 21.41c.39.39.9.59 1.41.59.51 0 1.02-.2 1.41-.59l7.78-7.78 2.81-2.81c.8-.78.8-2.07 0-2.86zM5.41 20L4 18.59l7.72-7.72 1.47 1.35L5.41 20z\"/>\n",
              "  </svg>\n",
              "      </button>\n",
              "      \n",
              "  <style>\n",
              "    .colab-df-container {\n",
              "      display:flex;\n",
              "      flex-wrap:wrap;\n",
              "      gap: 12px;\n",
              "    }\n",
              "\n",
              "    .colab-df-convert {\n",
              "      background-color: #E8F0FE;\n",
              "      border: none;\n",
              "      border-radius: 50%;\n",
              "      cursor: pointer;\n",
              "      display: none;\n",
              "      fill: #1967D2;\n",
              "      height: 32px;\n",
              "      padding: 0 0 0 0;\n",
              "      width: 32px;\n",
              "    }\n",
              "\n",
              "    .colab-df-convert:hover {\n",
              "      background-color: #E2EBFA;\n",
              "      box-shadow: 0px 1px 2px rgba(60, 64, 67, 0.3), 0px 1px 3px 1px rgba(60, 64, 67, 0.15);\n",
              "      fill: #174EA6;\n",
              "    }\n",
              "\n",
              "    [theme=dark] .colab-df-convert {\n",
              "      background-color: #3B4455;\n",
              "      fill: #D2E3FC;\n",
              "    }\n",
              "\n",
              "    [theme=dark] .colab-df-convert:hover {\n",
              "      background-color: #434B5C;\n",
              "      box-shadow: 0px 1px 3px 1px rgba(0, 0, 0, 0.15);\n",
              "      filter: drop-shadow(0px 1px 2px rgba(0, 0, 0, 0.3));\n",
              "      fill: #FFFFFF;\n",
              "    }\n",
              "  </style>\n",
              "\n",
              "      <script>\n",
              "        const buttonEl =\n",
              "          document.querySelector('#df-b9c32082-6a23-4f82-9bc3-3d3b62f21cfd button.colab-df-convert');\n",
              "        buttonEl.style.display =\n",
              "          google.colab.kernel.accessAllowed ? 'block' : 'none';\n",
              "\n",
              "        async function convertToInteractive(key) {\n",
              "          const element = document.querySelector('#df-b9c32082-6a23-4f82-9bc3-3d3b62f21cfd');\n",
              "          const dataTable =\n",
              "            await google.colab.kernel.invokeFunction('convertToInteractive',\n",
              "                                                     [key], {});\n",
              "          if (!dataTable) return;\n",
              "\n",
              "          const docLinkHtml = 'Like what you see? Visit the ' +\n",
              "            '<a target=\"_blank\" href=https://colab.research.google.com/notebooks/data_table.ipynb>data table notebook</a>'\n",
              "            + ' to learn more about interactive tables.';\n",
              "          element.innerHTML = '';\n",
              "          dataTable['output_type'] = 'display_data';\n",
              "          await google.colab.output.renderOutput(dataTable, element);\n",
              "          const docLink = document.createElement('div');\n",
              "          docLink.innerHTML = docLinkHtml;\n",
              "          element.appendChild(docLink);\n",
              "        }\n",
              "      </script>\n",
              "    </div>\n",
              "  </div>\n",
              "  "
            ]
          },
          "metadata": {},
          "execution_count": 212
        }
      ]
    },
    {
      "cell_type": "markdown",
      "source": [
        "# NOMOR 1\n",
        "\n",
        "**Lakukan eksplorasi dengan visual dan interpretasi pada data yang diberikan:**"
      ],
      "metadata": {
        "id": "8daeGomVrknw"
      }
    },
    {
      "cell_type": "markdown",
      "source": [
        "## a. Jumlah user per marketing channel"
      ],
      "metadata": {
        "id": "pO-41pzkeY3G"
      }
    },
    {
      "cell_type": "code",
      "source": [
        "plot_fe = sns.countplot(x = 'marketing_channel', data = latest_activity)\n",
        "for p in plot_fe.patches:\n",
        "  height = p.get_height() # get the height of each bar\n",
        "  # adding text to each bar\n",
        "  plot_fe.text(x = p.get_x()+(p.get_width()/2), # x-coordinate position of data label, padded to be in the middle of the bar\n",
        "  y = height+5, # y-coordinate position of data label, padded 0.2 above bar\n",
        "  s = '{:.0f}'.format(height), # data label, formatted to ignore decimals\n",
        "  ha = 'center') # sets horizontal alignment (ha) to center"
      ],
      "metadata": {
        "colab": {
          "base_uri": "https://localhost:8080/",
          "height": 530
        },
        "id": "uGDT5x6Tebid",
        "outputId": "dcc0328b-9271-4d01-aa77-8d466b2d9d11"
      },
      "execution_count": null,
      "outputs": [
        {
          "output_type": "display_data",
          "data": {
            "text/plain": [
              "<Figure size 1440x720 with 1 Axes>"
            ],
            "image/png": "[encoded data removed]"
          },
          "metadata": {}
        }
      ]
    },
    {
      "cell_type": "markdown",
      "source": [
        "Marketing channel yang paling banyak digunakan untuk oleh user adalah House Ads dengan jumlah 255 user."
      ],
      "metadata": {
        "id": "faL1LJXzAzk9"
      }
    },
    {
      "cell_type": "markdown",
      "source": [
        "## b. Jumlah user per variant"
      ],
      "metadata": {
        "id": "kuCD-jf2sFKW"
      }
    },
    {
      "cell_type": "code",
      "source": [
        "plot_fe = sns.countplot(x = 'variant', data = latest_activity)\n",
        "for p in plot_fe.patches:\n",
        "  height = p.get_height() # get the height of each bar\n",
        "  # adding text to each bar\n",
        "  plot_fe.text(x = p.get_x()+(p.get_width()/2), # x-coordinate position of data label, padded to be in the middle of the bar\n",
        "  y = height+5, # y-coordinate position of data label, padded 0.2 above bar\n",
        "  s = '{:.0f}'.format(height), # data label, formatted to ignore decimals\n",
        "  ha = 'center') # sets horizontal alignment (ha) to center"
      ],
      "metadata": {
        "colab": {
          "base_uri": "https://localhost:8080/",
          "height": 530
        },
        "id": "3LpJr5obHLJ3",
        "outputId": "099a0f14-07b1-4949-f401-67f97896c3e6"
      },
      "execution_count": null,
      "outputs": [
        {
          "output_type": "display_data",
          "data": {
            "text/plain": [
              "<Figure size 1440x720 with 1 Axes>"
            ],
            "image/png": "[encoded data removed]"
          },
          "metadata": {}
        }
      ]
    },
    {
      "cell_type": "markdown",
      "source": [
        "Jumlah user yang diberi iklan personalisasi lebih banyak daripada iklan biasa. 310 vs 264"
      ],
      "metadata": {
        "id": "vJXNPCbSBNNx"
      }
    },
    {
      "cell_type": "markdown",
      "source": [
        "## c. Jumlah user converted per variant"
      ],
      "metadata": {
        "id": "5d_DqI_VsLHl"
      }
    },
    {
      "cell_type": "code",
      "source": [
        "def prop_agg(df, y, x):\n",
        "  temp_df = df.groupby([y,x], as_index = False).size()\n",
        "  temp_df['prop'] = temp_df['size'] / temp_df.groupby(y)['size'].transform('sum')\n",
        "  return temp_df"
      ],
      "metadata": {
        "id": "f8DQVKRuHvjl"
      },
      "execution_count": null,
      "outputs": []
    },
    {
      "cell_type": "code",
      "source": [
        "plot_fe = sns.countplot(x = 'variant', hue = \"converted\" , data = latest_activity)\n",
        "for p in plot_fe.patches:\n",
        "  height = p.get_height() # get the height of each bar\n",
        "  # adding text to each bar\n",
        "  plot_fe.text(x = p.get_x()+(p.get_width()/2), # x-coordinate position of data label, padded to be in the middle of the bar\n",
        "  y = height+5, # y-coordinate position of data label, padded 0.2 above bar\n",
        "  s = '{:.0f}'.format(height), # data label, formatted to ignore decimals\n",
        "  ha = 'center') # sets horizontal alignment (ha) to center"
      ],
      "metadata": {
        "colab": {
          "base_uri": "https://localhost:8080/",
          "height": 530
        },
        "id": "OHCrNL13HNnd",
        "outputId": "1ef06f71-9752-470c-d193-0e72e2dd900e"
      },
      "execution_count": null,
      "outputs": [
        {
          "output_type": "display_data",
          "data": {
            "text/plain": [
              "<Figure size 1440x720 with 1 Axes>"
            ],
            "image/png": "[encoded data removed]"
          },
          "metadata": {}
        }
      ]
    },
    {
      "cell_type": "markdown",
      "source": [
        "Treatment iklan personalisasi memiliki konversi yang lebih tinggi (237 vs 112) dibandingkan yang tidak diberi treatment artinya ada dampak dari pemberian treatment."
      ],
      "metadata": {
        "id": "k0gnul-rBOQD"
      }
    },
    {
      "cell_type": "markdown",
      "source": [
        "## d. Jumlah user converted per variant dari waktu ke waktu"
      ],
      "metadata": {
        "id": "w4Br23TGsWZv"
      }
    },
    {
      "cell_type": "code",
      "source": [
        "pd.to_datetime(pd.to_datetime(latest_activity['date_served']).dt.normalize(),unit=\"D\")"
      ],
      "metadata": {
        "id": "5yfJVWChVSmM",
        "outputId": "93937af6-1982-467b-bfa2-824496ad9b27",
        "colab": {
          "base_uri": "https://localhost:8080/"
        }
      },
      "execution_count": null,
      "outputs": [
        {
          "output_type": "execute_result",
          "data": {
            "text/plain": [
              "0     2018-01-01\n",
              "1     2018-01-01\n",
              "2     2018-01-01\n",
              "3     2018-01-01\n",
              "4     2018-01-01\n",
              "         ...    \n",
              "569   2018-01-17\n",
              "570   2018-01-17\n",
              "571   2018-01-17\n",
              "572   2018-01-17\n",
              "573   2018-01-17\n",
              "Name: date_served, Length: 574, dtype: datetime64[ns]"
            ]
          },
          "metadata": {},
          "execution_count": 217
        }
      ]
    },
    {
      "cell_type": "code",
      "source": [
        "# create Order Date column\n",
        "latest_activity['date_served'] = pd.to_datetime(latest_activity['date_served']).dt.date"
      ],
      "metadata": {
        "id": "GCeGO1MgJ5ZX"
      },
      "execution_count": null,
      "outputs": []
    },
    {
      "cell_type": "code",
      "source": [
        "#jumlah user converted per variant\n",
        "daily_converted = latest_activity.groupby(['date_served','variant'])[\"converted\"].sum().reset_index()"
      ],
      "metadata": {
        "id": "P9YBgVmwRj1O"
      },
      "execution_count": null,
      "outputs": []
    },
    {
      "cell_type": "code",
      "source": [
        "daily_converted.columns = [\"date\",\"variant\",\"converted\"]"
      ],
      "metadata": {
        "id": "6uxw2n8P0KET"
      },
      "execution_count": null,
      "outputs": []
    },
    {
      "cell_type": "code",
      "source": [
        "daily_converted.head()"
      ],
      "metadata": {
        "id": "TRZ7P7KvTJmM",
        "outputId": "1b898dc5-32d8-4b10-b336-0f8d5eb514e4",
        "colab": {
          "base_uri": "https://localhost:8080/",
          "height": 206
        }
      },
      "execution_count": null,
      "outputs": [
        {
          "output_type": "execute_result",
          "data": {
            "text/plain": [
              "         date          variant  converted\n",
              "0  2018-01-01          control          0\n",
              "1  2018-01-01  personalization          8\n",
              "2  2018-01-02          control          0\n",
              "3  2018-01-02  personalization         11\n",
              "4  2018-01-03          control          1"
            ],
            "text/html": [
              "\n",
              "  <div id=\"df-091ad0fa-2e86-47ff-b4c1-b5c6e2250890\">\n",
              "    <div class=\"colab-df-container\">\n",
              "      <div>\n",
              "<style scoped>\n",
              "    .dataframe tbody tr th:only-of-type {\n",
              "        vertical-align: middle;\n",
              "    }\n",
              "\n",
              "    .dataframe tbody tr th {\n",
              "        vertical-align: top;\n",
              "    }\n",
              "\n",
              "    .dataframe thead th {\n",
              "        text-align: right;\n",
              "    }\n",
              "</style>\n",
              "<table border=\"1\" class=\"dataframe\">\n",
              "  <thead>\n",
              "    <tr style=\"text-align: right;\">\n",
              "      <th></th>\n",
              "      <th>date</th>\n",
              "      <th>variant</th>\n",
              "      <th>converted</th>\n",
              "    </tr>\n",
              "  </thead>\n",
              "  <tbody>\n",
              "    <tr>\n",
              "      <th>0</th>\n",
              "      <td>2018-01-01</td>\n",
              "      <td>control</td>\n",
              "      <td>0</td>\n",
              "    </tr>\n",
              "    <tr>\n",
              "      <th>1</th>\n",
              "      <td>2018-01-01</td>\n",
              "      <td>personalization</td>\n",
              "      <td>8</td>\n",
              "    </tr>\n",
              "    <tr>\n",
              "      <th>2</th>\n",
              "      <td>2018-01-02</td>\n",
              "      <td>control</td>\n",
              "      <td>0</td>\n",
              "    </tr>\n",
              "    <tr>\n",
              "      <th>3</th>\n",
              "      <td>2018-01-02</td>\n",
              "      <td>personalization</td>\n",
              "      <td>11</td>\n",
              "    </tr>\n",
              "    <tr>\n",
              "      <th>4</th>\n",
              "      <td>2018-01-03</td>\n",
              "      <td>control</td>\n",
              "      <td>1</td>\n",
              "    </tr>\n",
              "  </tbody>\n",
              "</table>\n",
              "</div>\n",
              "      <button class=\"colab-df-convert\" onclick=\"convertToInteractive('df-091ad0fa-2e86-47ff-b4c1-b5c6e2250890')\"\n",
              "              title=\"Convert this dataframe to an interactive table.\"\n",
              "              style=\"display:none;\">\n",
              "        \n",
              "  <svg xmlns=\"http://www.w3.org/2000/svg\" height=\"24px\"viewBox=\"0 0 24 24\"\n",
              "       width=\"24px\">\n",
              "    <path d=\"M0 0h24v24H0V0z\" fill=\"none\"/>\n",
              "    <path d=\"M18.56 5.44l.94 2.06.94-2.06 2.06-.94-2.06-.94-.94-2.06-.94 2.06-2.06.94zm-11 1L8.5 8.5l.94-2.06 2.06-.94-2.06-.94L8.5 2.5l-.94 2.06-2.06.94zm10 10l.94 2.06.94-2.06 2.06-.94-2.06-.94-.94-2.06-.94 2.06-2.06.94z\"/><path d=\"M17.41 7.96l-1.37-1.37c-.4-.4-.92-.59-1.43-.59-.52 0-1.04.2-1.43.59L10.3 9.45l-7.72 7.72c-.78.78-.78 2.05 0 2.83L4 21.41c.39.39.9.59 1.41.59.51 0 1.02-.2 1.41-.59l7.78-7.78 2.81-2.81c.8-.78.8-2.07 0-2.86zM5.41 20L4 18.59l7.72-7.72 1.47 1.35L5.41 20z\"/>\n",
              "  </svg>\n",
              "      </button>\n",
              "      \n",
              "  <style>\n",
              "    .colab-df-container {\n",
              "      display:flex;\n",
              "      flex-wrap:wrap;\n",
              "      gap: 12px;\n",
              "    }\n",
              "\n",
              "    .colab-df-convert {\n",
              "      background-color: #E8F0FE;\n",
              "      border: none;\n",
              "      border-radius: 50%;\n",
              "      cursor: pointer;\n",
              "      display: none;\n",
              "      fill: #1967D2;\n",
              "      height: 32px;\n",
              "      padding: 0 0 0 0;\n",
              "      width: 32px;\n",
              "    }\n",
              "\n",
              "    .colab-df-convert:hover {\n",
              "      background-color: #E2EBFA;\n",
              "      box-shadow: 0px 1px 2px rgba(60, 64, 67, 0.3), 0px 1px 3px 1px rgba(60, 64, 67, 0.15);\n",
              "      fill: #174EA6;\n",
              "    }\n",
              "\n",
              "    [theme=dark] .colab-df-convert {\n",
              "      background-color: #3B4455;\n",
              "      fill: #D2E3FC;\n",
              "    }\n",
              "\n",
              "    [theme=dark] .colab-df-convert:hover {\n",
              "      background-color: #434B5C;\n",
              "      box-shadow: 0px 1px 3px 1px rgba(0, 0, 0, 0.15);\n",
              "      filter: drop-shadow(0px 1px 2px rgba(0, 0, 0, 0.3));\n",
              "      fill: #FFFFFF;\n",
              "    }\n",
              "  </style>\n",
              "\n",
              "      <script>\n",
              "        const buttonEl =\n",
              "          document.querySelector('#df-091ad0fa-2e86-47ff-b4c1-b5c6e2250890 button.colab-df-convert');\n",
              "        buttonEl.style.display =\n",
              "          google.colab.kernel.accessAllowed ? 'block' : 'none';\n",
              "\n",
              "        async function convertToInteractive(key) {\n",
              "          const element = document.querySelector('#df-091ad0fa-2e86-47ff-b4c1-b5c6e2250890');\n",
              "          const dataTable =\n",
              "            await google.colab.kernel.invokeFunction('convertToInteractive',\n",
              "                                                     [key], {});\n",
              "          if (!dataTable) return;\n",
              "\n",
              "          const docLinkHtml = 'Like what you see? Visit the ' +\n",
              "            '<a target=\"_blank\" href=https://colab.research.google.com/notebooks/data_table.ipynb>data table notebook</a>'\n",
              "            + ' to learn more about interactive tables.';\n",
              "          element.innerHTML = '';\n",
              "          dataTable['output_type'] = 'display_data';\n",
              "          await google.colab.output.renderOutput(dataTable, element);\n",
              "          const docLink = document.createElement('div');\n",
              "          docLink.innerHTML = docLinkHtml;\n",
              "          element.appendChild(docLink);\n",
              "        }\n",
              "      </script>\n",
              "    </div>\n",
              "  </div>\n",
              "  "
            ]
          },
          "metadata": {},
          "execution_count": 221
        }
      ]
    },
    {
      "cell_type": "code",
      "source": [
        "plot_fe = sns.barplot(data=daily_converted, x=\"date\", y=\"converted\", hue=\"variant\")\n",
        "sns.set(rc={'figure.figsize':(20,10)})\n",
        "plt.xticks(rotation=90)\n",
        "for p in plot_fe.patches:\n",
        "  height = p.get_height() # get the height of each bar\n",
        "  # adding text to each bar\n",
        "  plot_fe.text(x = p.get_x()+(p.get_width()/2), # x-coordinate position of data label, padded to be in the middle of the bar\n",
        "  y = height, # y-coordinate position of data label, padded 0.2 above bar\n",
        "  s = '{:.0f}'.format(height), # data label, formatted to ignore decimals\n",
        "  ha = 'center') # sets horizontal alignment (ha) to center"
      ],
      "metadata": {
        "id": "eejYosYL25hJ",
        "outputId": "7b695f6d-2254-4465-8ee6-63cd0d021b84",
        "colab": {
          "base_uri": "https://localhost:8080/",
          "height": 634
        }
      },
      "execution_count": null,
      "outputs": [
        {
          "output_type": "stream",
          "name": "stderr",
          "text": [
            "posx and posy should be finite values\n",
            "posx and posy should be finite values\n",
            "posx and posy should be finite values\n"
          ]
        },
        {
          "output_type": "display_data",
          "data": {
            "text/plain": [
              "<Figure size 1440x720 with 1 Axes>"
            ],
            "image/png": "[encoded data removed]"
          },
          "metadata": {}
        }
      ]
    },
    {
      "cell_type": "markdown",
      "source": [
        "Meskipun secara garis besar jumlah convert dari variant treatment lebih besar, entah kenapa di tanggal 17 varian control malah lebih mendapatkan banyak user yang convert ketimbang varian treatmen"
      ],
      "metadata": {
        "id": "5V2D1cqMXX-E"
      }
    },
    {
      "cell_type": "markdown",
      "source": [
        "## e. Jumlah user converted per age group"
      ],
      "metadata": {
        "id": "1PhS486escT7"
      }
    },
    {
      "cell_type": "code",
      "source": [
        "plot_fe = sns.countplot(x = 'age_group', hue = \"converted\" , data = latest_activity)\n",
        "for p in plot_fe.patches:\n",
        "  height = p.get_height() # get the height of each bar\n",
        "  # adding text to each bar\n",
        "  plot_fe.text(x = p.get_x()+(p.get_width()/2), # x-coordinate position of data label, padded to be in the middle of the bar\n",
        "  y = height+1, # y-coordinate position of data label, padded 0.2 above bar\n",
        "  s = '{:.0f}'.format(height), # data label, formatted to ignore decimals\n",
        "  ha = 'center') # sets horizontal alignment (ha) to center"
      ],
      "metadata": {
        "id": "SJUd2Ba8YKX3",
        "outputId": "9cf1b5af-e382-4082-e306-b545ada0e5b9",
        "colab": {
          "base_uri": "https://localhost:8080/",
          "height": 533
        }
      },
      "execution_count": null,
      "outputs": [
        {
          "output_type": "display_data",
          "data": {
            "text/plain": [
              "<Figure size 1440x720 with 1 Axes>"
            ],
            "image/png": "[encoded data removed]"
          },
          "metadata": {}
        }
      ]
    },
    {
      "cell_type": "markdown",
      "source": [
        "1. Grup umur yang memiliki nilai konversi tertinggi yaitu pada umur 19-24 tahun sebanyak 95 users,\n",
        "2. rata2, jumlah user yang converted lebih tinggi untuk usia dibawah 30 tahun daripada usia diatas 30 tahun\n",
        "3. grup umur diatas 30 tahun memiliki jumlah user converted yang mirip (sekitar 25-30) \n",
        "4. kesimpulannya, kampanye marketing kita lebih sukses untuk kaum pemuda dibawah 30 tahu\n",
        "5. rekomendasinya adalah kita terapkan uji statistik pada setiap age group untuk memastikan mana varian terbaik untuk setiap age_group"
      ],
      "metadata": {
        "id": "LP4OhhNCBQPX"
      }
    },
    {
      "cell_type": "markdown",
      "source": [
        "## f. Korelasi prefered language dan converted"
      ],
      "metadata": {
        "id": "oudG4ASAsgKZ"
      }
    },
    {
      "cell_type": "markdown",
      "source": [
        "to check correlation between preferred language and converted using crammer V coefficient, and pearson correlation coefficient\n",
        "\n",
        "\n"
      ],
      "metadata": {
        "id": "NH0LYm52agLt"
      }
    },
    {
      "cell_type": "code",
      "source": [
        "import scipy.stats as ss\n",
        "\n",
        "def cramers_corrected_stat(x,y):\n",
        "    \"\"\" calculate Cramers V statistic for categorial-categorial association.\n",
        "        uses correction from Bergsma and Wicher, \n",
        "        Journal of the Korean Statistical Society 42 (2013): 323-328\n",
        "    \"\"\"\n",
        "    result=-1\n",
        "    if len(x.value_counts())==1 :\n",
        "      print(\"First variable is constant\")\n",
        "    elif len(y.value_counts())==1:\n",
        "      print(\"Second variable is constant\")\n",
        "    else:   \n",
        "      conf_matrix=pd.crosstab(x, y)\n",
        "\n",
        "    if conf_matrix.shape[0]==2:\n",
        "      correct=False\n",
        "    else:\n",
        "      correct=True\n",
        "\n",
        "    chi2 = ss.chi2_contingency(conf_matrix, correction=correct)[0]\n",
        "\n",
        "    n = sum(conf_matrix.sum())\n",
        "    phi2 = chi2/n\n",
        "    r,k = conf_matrix.shape\n",
        "    phi2corr = max(0, phi2 - ((k-1)*(r-1))/(n-1))    \n",
        "    rcorr = r - ((r-1)**2)/(n-1)\n",
        "    kcorr = k - ((k-1)**2)/(n-1)\n",
        "    result=np.sqrt(phi2corr / min( (kcorr-1), (rcorr-1)))\n",
        "    return round(result,6)\n"
      ],
      "metadata": {
        "id": "1WqkJSgaabLo"
      },
      "execution_count": null,
      "outputs": []
    },
    {
      "cell_type": "code",
      "source": [
        "cramers_corrected_stat(latest_activity[\"language_preferred\"],latest_activity[\"converted\"])"
      ],
      "metadata": {
        "id": "NwDDOtNfbMZ_",
        "outputId": "ff7be9d8-206f-4ff3-8bf8-64ac0d44fb69",
        "colab": {
          "base_uri": "https://localhost:8080/"
        }
      },
      "execution_count": null,
      "outputs": [
        {
          "output_type": "execute_result",
          "data": {
            "text/plain": [
              "0.150185"
            ]
          },
          "metadata": {},
          "execution_count": 225
        }
      ]
    },
    {
      "cell_type": "markdown",
      "source": [
        "Crammer V coefficient shows a low correlation score"
      ],
      "metadata": {
        "id": "6_drObFcdS2M"
      }
    },
    {
      "cell_type": "code",
      "source": [
        "language_preferred_map={\"English\":0, \"Arabic\":1, \"German\":2, \"Spanish\":3}\n",
        "latest_activity[\"language_preferred\"]=latest_activity[\"language_preferred\"].map(language_preferred_map)\n",
        "latest_activity.head()"
      ],
      "metadata": {
        "colab": {
          "base_uri": "https://localhost:8080/",
          "height": 270
        },
        "id": "700kJUPvbLSf",
        "outputId": "7a9666e0-6b3c-41a2-87a9-335d978e1917"
      },
      "execution_count": null,
      "outputs": [
        {
          "output_type": "execute_result",
          "data": {
            "text/plain": [
              "      user_id date_served marketing_channel          variant  converted  \\\n",
              "0  a100000040  2018-01-01         House Ads  personalization       True   \n",
              "1  a100000041  2018-01-01         House Ads  personalization       True   \n",
              "2  a100000042  2018-01-01         House Ads  personalization       True   \n",
              "3  a100000043  2018-01-01         House Ads  personalization       True   \n",
              "4  a100000044  2018-01-01         House Ads  personalization       True   \n",
              "\n",
              "  language_displayed  language_preferred    age_group date_subscribed  \\\n",
              "0            English                   0  19-24 years          1/1/18   \n",
              "1             Arabic                   1  24-30 years          1/1/18   \n",
              "2            English                   0   0-18 years          1/1/18   \n",
              "3            English                   0  19-24 years          1/1/18   \n",
              "4             Arabic                   1  24-30 years          1/1/18   \n",
              "\n",
              "  date_canceled subscribing_channel  is_retained  conversion  \n",
              "0       1/18/18           House Ads        False           1  \n",
              "1       2/22/18           House Ads        False           1  \n",
              "2        3/9/18           House Ads        False           1  \n",
              "3       2/18/18           House Ads        False           1  \n",
              "4        3/3/18           House Ads        False           1  "
            ],
            "text/html": [
              "\n",
              "  <div id=\"df-2a44a04a-bf20-4b4a-a85e-c4ccaad18e71\">\n",
              "    <div class=\"colab-df-container\">\n",
              "      <div>\n",
              "<style scoped>\n",
              "    .dataframe tbody tr th:only-of-type {\n",
              "        vertical-align: middle;\n",
              "    }\n",
              "\n",
              "    .dataframe tbody tr th {\n",
              "        vertical-align: top;\n",
              "    }\n",
              "\n",
              "    .dataframe thead th {\n",
              "        text-align: right;\n",
              "    }\n",
              "</style>\n",
              "<table border=\"1\" class=\"dataframe\">\n",
              "  <thead>\n",
              "    <tr style=\"text-align: right;\">\n",
              "      <th></th>\n",
              "      <th>user_id</th>\n",
              "      <th>date_served</th>\n",
              "      <th>marketing_channel</th>\n",
              "      <th>variant</th>\n",
              "      <th>converted</th>\n",
              "      <th>language_displayed</th>\n",
              "      <th>language_preferred</th>\n",
              "      <th>age_group</th>\n",
              "      <th>date_subscribed</th>\n",
              "      <th>date_canceled</th>\n",
              "      <th>subscribing_channel</th>\n",
              "      <th>is_retained</th>\n",
              "      <th>conversion</th>\n",
              "    </tr>\n",
              "  </thead>\n",
              "  <tbody>\n",
              "    <tr>\n",
              "      <th>0</th>\n",
              "      <td>a100000040</td>\n",
              "      <td>2018-01-01</td>\n",
              "      <td>House Ads</td>\n",
              "      <td>personalization</td>\n",
              "      <td>True</td>\n",
              "      <td>English</td>\n",
              "      <td>0</td>\n",
              "      <td>19-24 years</td>\n",
              "      <td>1/1/18</td>\n",
              "      <td>1/18/18</td>\n",
              "      <td>House Ads</td>\n",
              "      <td>False</td>\n",
              "      <td>1</td>\n",
              "    </tr>\n",
              "    <tr>\n",
              "      <th>1</th>\n",
              "      <td>a100000041</td>\n",
              "      <td>2018-01-01</td>\n",
              "      <td>House Ads</td>\n",
              "      <td>personalization</td>\n",
              "      <td>True</td>\n",
              "      <td>Arabic</td>\n",
              "      <td>1</td>\n",
              "      <td>24-30 years</td>\n",
              "      <td>1/1/18</td>\n",
              "      <td>2/22/18</td>\n",
              "      <td>House Ads</td>\n",
              "      <td>False</td>\n",
              "      <td>1</td>\n",
              "    </tr>\n",
              "    <tr>\n",
              "      <th>2</th>\n",
              "      <td>a100000042</td>\n",
              "      <td>2018-01-01</td>\n",
              "      <td>House Ads</td>\n",
              "      <td>personalization</td>\n",
              "      <td>True</td>\n",
              "      <td>English</td>\n",
              "      <td>0</td>\n",
              "      <td>0-18 years</td>\n",
              "      <td>1/1/18</td>\n",
              "      <td>3/9/18</td>\n",
              "      <td>House Ads</td>\n",
              "      <td>False</td>\n",
              "      <td>1</td>\n",
              "    </tr>\n",
              "    <tr>\n",
              "      <th>3</th>\n",
              "      <td>a100000043</td>\n",
              "      <td>2018-01-01</td>\n",
              "      <td>House Ads</td>\n",
              "      <td>personalization</td>\n",
              "      <td>True</td>\n",
              "      <td>English</td>\n",
              "      <td>0</td>\n",
              "      <td>19-24 years</td>\n",
              "      <td>1/1/18</td>\n",
              "      <td>2/18/18</td>\n",
              "      <td>House Ads</td>\n",
              "      <td>False</td>\n",
              "      <td>1</td>\n",
              "    </tr>\n",
              "    <tr>\n",
              "      <th>4</th>\n",
              "      <td>a100000044</td>\n",
              "      <td>2018-01-01</td>\n",
              "      <td>House Ads</td>\n",
              "      <td>personalization</td>\n",
              "      <td>True</td>\n",
              "      <td>Arabic</td>\n",
              "      <td>1</td>\n",
              "      <td>24-30 years</td>\n",
              "      <td>1/1/18</td>\n",
              "      <td>3/3/18</td>\n",
              "      <td>House Ads</td>\n",
              "      <td>False</td>\n",
              "      <td>1</td>\n",
              "    </tr>\n",
              "  </tbody>\n",
              "</table>\n",
              "</div>\n",
              "      <button class=\"colab-df-convert\" onclick=\"convertToInteractive('df-2a44a04a-bf20-4b4a-a85e-c4ccaad18e71')\"\n",
              "              title=\"Convert this dataframe to an interactive table.\"\n",
              "              style=\"display:none;\">\n",
              "        \n",
              "  <svg xmlns=\"http://www.w3.org/2000/svg\" height=\"24px\"viewBox=\"0 0 24 24\"\n",
              "       width=\"24px\">\n",
              "    <path d=\"M0 0h24v24H0V0z\" fill=\"none\"/>\n",
              "    <path d=\"M18.56 5.44l.94 2.06.94-2.06 2.06-.94-2.06-.94-.94-2.06-.94 2.06-2.06.94zm-11 1L8.5 8.5l.94-2.06 2.06-.94-2.06-.94L8.5 2.5l-.94 2.06-2.06.94zm10 10l.94 2.06.94-2.06 2.06-.94-2.06-.94-.94-2.06-.94 2.06-2.06.94z\"/><path d=\"M17.41 7.96l-1.37-1.37c-.4-.4-.92-.59-1.43-.59-.52 0-1.04.2-1.43.59L10.3 9.45l-7.72 7.72c-.78.78-.78 2.05 0 2.83L4 21.41c.39.39.9.59 1.41.59.51 0 1.02-.2 1.41-.59l7.78-7.78 2.81-2.81c.8-.78.8-2.07 0-2.86zM5.41 20L4 18.59l7.72-7.72 1.47 1.35L5.41 20z\"/>\n",
              "  </svg>\n",
              "      </button>\n",
              "      \n",
              "  <style>\n",
              "    .colab-df-container {\n",
              "      display:flex;\n",
              "      flex-wrap:wrap;\n",
              "      gap: 12px;\n",
              "    }\n",
              "\n",
              "    .colab-df-convert {\n",
              "      background-color: #E8F0FE;\n",
              "      border: none;\n",
              "      border-radius: 50%;\n",
              "      cursor: pointer;\n",
              "      display: none;\n",
              "      fill: #1967D2;\n",
              "      height: 32px;\n",
              "      padding: 0 0 0 0;\n",
              "      width: 32px;\n",
              "    }\n",
              "\n",
              "    .colab-df-convert:hover {\n",
              "      background-color: #E2EBFA;\n",
              "      box-shadow: 0px 1px 2px rgba(60, 64, 67, 0.3), 0px 1px 3px 1px rgba(60, 64, 67, 0.15);\n",
              "      fill: #174EA6;\n",
              "    }\n",
              "\n",
              "    [theme=dark] .colab-df-convert {\n",
              "      background-color: #3B4455;\n",
              "      fill: #D2E3FC;\n",
              "    }\n",
              "\n",
              "    [theme=dark] .colab-df-convert:hover {\n",
              "      background-color: #434B5C;\n",
              "      box-shadow: 0px 1px 3px 1px rgba(0, 0, 0, 0.15);\n",
              "      filter: drop-shadow(0px 1px 2px rgba(0, 0, 0, 0.3));\n",
              "      fill: #FFFFFF;\n",
              "    }\n",
              "  </style>\n",
              "\n",
              "      <script>\n",
              "        const buttonEl =\n",
              "          document.querySelector('#df-2a44a04a-bf20-4b4a-a85e-c4ccaad18e71 button.colab-df-convert');\n",
              "        buttonEl.style.display =\n",
              "          google.colab.kernel.accessAllowed ? 'block' : 'none';\n",
              "\n",
              "        async function convertToInteractive(key) {\n",
              "          const element = document.querySelector('#df-2a44a04a-bf20-4b4a-a85e-c4ccaad18e71');\n",
              "          const dataTable =\n",
              "            await google.colab.kernel.invokeFunction('convertToInteractive',\n",
              "                                                     [key], {});\n",
              "          if (!dataTable) return;\n",
              "\n",
              "          const docLinkHtml = 'Like what you see? Visit the ' +\n",
              "            '<a target=\"_blank\" href=https://colab.research.google.com/notebooks/data_table.ipynb>data table notebook</a>'\n",
              "            + ' to learn more about interactive tables.';\n",
              "          element.innerHTML = '';\n",
              "          dataTable['output_type'] = 'display_data';\n",
              "          await google.colab.output.renderOutput(dataTable, element);\n",
              "          const docLink = document.createElement('div');\n",
              "          docLink.innerHTML = docLinkHtml;\n",
              "          element.appendChild(docLink);\n",
              "        }\n",
              "      </script>\n",
              "    </div>\n",
              "  </div>\n",
              "  "
            ]
          },
          "metadata": {},
          "execution_count": 226
        }
      ]
    },
    {
      "cell_type": "code",
      "source": [
        "latest_activity[[\"language_preferred\",\"converted\"]].corr()"
      ],
      "metadata": {
        "colab": {
          "base_uri": "https://localhost:8080/",
          "height": 112
        },
        "id": "BnzRsUcfog9N",
        "outputId": "579c4e64-d004-4d22-b1e9-18ce0652a535"
      },
      "execution_count": null,
      "outputs": [
        {
          "output_type": "execute_result",
          "data": {
            "text/plain": [
              "                    language_preferred  converted\n",
              "language_preferred            1.000000   0.059483\n",
              "converted                     0.059483   1.000000"
            ],
            "text/html": [
              "\n",
              "  <div id=\"df-54e1bb33-c551-41f1-9ca1-77b5458d4bd1\">\n",
              "    <div class=\"colab-df-container\">\n",
              "      <div>\n",
              "<style scoped>\n",
              "    .dataframe tbody tr th:only-of-type {\n",
              "        vertical-align: middle;\n",
              "    }\n",
              "\n",
              "    .dataframe tbody tr th {\n",
              "        vertical-align: top;\n",
              "    }\n",
              "\n",
              "    .dataframe thead th {\n",
              "        text-align: right;\n",
              "    }\n",
              "</style>\n",
              "<table border=\"1\" class=\"dataframe\">\n",
              "  <thead>\n",
              "    <tr style=\"text-align: right;\">\n",
              "      <th></th>\n",
              "      <th>language_preferred</th>\n",
              "      <th>converted</th>\n",
              "    </tr>\n",
              "  </thead>\n",
              "  <tbody>\n",
              "    <tr>\n",
              "      <th>language_preferred</th>\n",
              "      <td>1.000000</td>\n",
              "      <td>0.059483</td>\n",
              "    </tr>\n",
              "    <tr>\n",
              "      <th>converted</th>\n",
              "      <td>0.059483</td>\n",
              "      <td>1.000000</td>\n",
              "    </tr>\n",
              "  </tbody>\n",
              "</table>\n",
              "</div>\n",
              "      <button class=\"colab-df-convert\" onclick=\"convertToInteractive('df-54e1bb33-c551-41f1-9ca1-77b5458d4bd1')\"\n",
              "              title=\"Convert this dataframe to an interactive table.\"\n",
              "              style=\"display:none;\">\n",
              "        \n",
              "  <svg xmlns=\"http://www.w3.org/2000/svg\" height=\"24px\"viewBox=\"0 0 24 24\"\n",
              "       width=\"24px\">\n",
              "    <path d=\"M0 0h24v24H0V0z\" fill=\"none\"/>\n",
              "    <path d=\"M18.56 5.44l.94 2.06.94-2.06 2.06-.94-2.06-.94-.94-2.06-.94 2.06-2.06.94zm-11 1L8.5 8.5l.94-2.06 2.06-.94-2.06-.94L8.5 2.5l-.94 2.06-2.06.94zm10 10l.94 2.06.94-2.06 2.06-.94-2.06-.94-.94-2.06-.94 2.06-2.06.94z\"/><path d=\"M17.41 7.96l-1.37-1.37c-.4-.4-.92-.59-1.43-.59-.52 0-1.04.2-1.43.59L10.3 9.45l-7.72 7.72c-.78.78-.78 2.05 0 2.83L4 21.41c.39.39.9.59 1.41.59.51 0 1.02-.2 1.41-.59l7.78-7.78 2.81-2.81c.8-.78.8-2.07 0-2.86zM5.41 20L4 18.59l7.72-7.72 1.47 1.35L5.41 20z\"/>\n",
              "  </svg>\n",
              "      </button>\n",
              "      \n",
              "  <style>\n",
              "    .colab-df-container {\n",
              "      display:flex;\n",
              "      flex-wrap:wrap;\n",
              "      gap: 12px;\n",
              "    }\n",
              "\n",
              "    .colab-df-convert {\n",
              "      background-color: #E8F0FE;\n",
              "      border: none;\n",
              "      border-radius: 50%;\n",
              "      cursor: pointer;\n",
              "      display: none;\n",
              "      fill: #1967D2;\n",
              "      height: 32px;\n",
              "      padding: 0 0 0 0;\n",
              "      width: 32px;\n",
              "    }\n",
              "\n",
              "    .colab-df-convert:hover {\n",
              "      background-color: #E2EBFA;\n",
              "      box-shadow: 0px 1px 2px rgba(60, 64, 67, 0.3), 0px 1px 3px 1px rgba(60, 64, 67, 0.15);\n",
              "      fill: #174EA6;\n",
              "    }\n",
              "\n",
              "    [theme=dark] .colab-df-convert {\n",
              "      background-color: #3B4455;\n",
              "      fill: #D2E3FC;\n",
              "    }\n",
              "\n",
              "    [theme=dark] .colab-df-convert:hover {\n",
              "      background-color: #434B5C;\n",
              "      box-shadow: 0px 1px 3px 1px rgba(0, 0, 0, 0.15);\n",
              "      filter: drop-shadow(0px 1px 2px rgba(0, 0, 0, 0.3));\n",
              "      fill: #FFFFFF;\n",
              "    }\n",
              "  </style>\n",
              "\n",
              "      <script>\n",
              "        const buttonEl =\n",
              "          document.querySelector('#df-54e1bb33-c551-41f1-9ca1-77b5458d4bd1 button.colab-df-convert');\n",
              "        buttonEl.style.display =\n",
              "          google.colab.kernel.accessAllowed ? 'block' : 'none';\n",
              "\n",
              "        async function convertToInteractive(key) {\n",
              "          const element = document.querySelector('#df-54e1bb33-c551-41f1-9ca1-77b5458d4bd1');\n",
              "          const dataTable =\n",
              "            await google.colab.kernel.invokeFunction('convertToInteractive',\n",
              "                                                     [key], {});\n",
              "          if (!dataTable) return;\n",
              "\n",
              "          const docLinkHtml = 'Like what you see? Visit the ' +\n",
              "            '<a target=\"_blank\" href=https://colab.research.google.com/notebooks/data_table.ipynb>data table notebook</a>'\n",
              "            + ' to learn more about interactive tables.';\n",
              "          element.innerHTML = '';\n",
              "          dataTable['output_type'] = 'display_data';\n",
              "          await google.colab.output.renderOutput(dataTable, element);\n",
              "          const docLink = document.createElement('div');\n",
              "          docLink.innerHTML = docLinkHtml;\n",
              "          element.appendChild(docLink);\n",
              "        }\n",
              "      </script>\n",
              "    </div>\n",
              "  </div>\n",
              "  "
            ]
          },
          "metadata": {},
          "execution_count": 227
        }
      ]
    },
    {
      "cell_type": "markdown",
      "source": [
        "Korelasi preferred language dan converted cukup rendah yaitu sebesar 0.05(Person correlation) dan 0.15 (Crammer V)  artinya preferred language memiliki asosiasi rendah terhadap converted."
      ],
      "metadata": {
        "id": "67tj9jA1BRUv"
      }
    },
    {
      "cell_type": "markdown",
      "source": [
        "# NOMOR 2\n",
        "\n",
        "**Lakukan pengujian A/B testing untuk menunjukkan bahwa terdapat perbedaan signifikan berdasarkan jumlah konversi antara iklan baru dengan iklan lama. Perhatikan dengan baik aksi terakhir yang dilakukan tiap user!**"
      ],
      "metadata": {
        "id": "OkejiO3vZl0J"
      }
    },
    {
      "cell_type": "markdown",
      "source": [
        "## A/B testing for all age_groups and all marketing channel in general"
      ],
      "metadata": {
        "id": "X1mBvOMB8tvH"
      }
    },
    {
      "cell_type": "markdown",
      "source": [
        "**Using Proportion Test (Chi-Square) for Count Data**"
      ],
      "metadata": {
        "id": "Ykv3PgIGpZfa"
      }
    },
    {
      "cell_type": "markdown",
      "source": [
        "Calculate conversion for each variant"
      ],
      "metadata": {
        "id": "T9rsG-1ppbOB"
      }
    },
    {
      "cell_type": "code",
      "source": [
        "raw_data = latest_activity"
      ],
      "metadata": {
        "id": "sihSlz0Aj7Nr"
      },
      "execution_count": null,
      "outputs": []
    },
    {
      "cell_type": "code",
      "source": [
        "raw_data.info()"
      ],
      "metadata": {
        "colab": {
          "base_uri": "https://localhost:8080/"
        },
        "id": "nmQyqG9vuXkq",
        "outputId": "3e0a2811-bf4c-43a7-8550-a6246918e49b"
      },
      "execution_count": null,
      "outputs": [
        {
          "output_type": "stream",
          "name": "stdout",
          "text": [
            "<class 'pandas.core.frame.DataFrame'>\n",
            "RangeIndex: 574 entries, 0 to 573\n",
            "Data columns (total 13 columns):\n",
            " #   Column               Non-Null Count  Dtype \n",
            "---  ------               --------------  ----- \n",
            " 0   user_id              574 non-null    object\n",
            " 1   date_served          574 non-null    object\n",
            " 2   marketing_channel    574 non-null    object\n",
            " 3   variant              574 non-null    object\n",
            " 4   converted            574 non-null    bool  \n",
            " 5   language_displayed   574 non-null    object\n",
            " 6   language_preferred   574 non-null    int64 \n",
            " 7   age_group            574 non-null    object\n",
            " 8   date_subscribed      574 non-null    object\n",
            " 9   date_canceled        574 non-null    object\n",
            " 10  subscribing_channel  574 non-null    object\n",
            " 11  is_retained          574 non-null    bool  \n",
            " 12  conversion           574 non-null    int64 \n",
            "dtypes: bool(2), int64(2), object(9)\n",
            "memory usage: 50.6+ KB\n"
          ]
        }
      ]
    },
    {
      "cell_type": "code",
      "source": [
        "def conv_calc(df):\n",
        "  conv_calculation = df.groupby(\n",
        "    ['variant', 'converted'], as_index = False\n",
        ").size().pivot(\n",
        "    index='variant', columns = \"converted\", values = \"size\"\n",
        ").reset_index()\n",
        "  conv_calculation = conv_calculation.fillna(0)\n",
        "  conv_calculation = conv_calculation.assign(\n",
        "    conv_percent = lambda x: x[True] * 100 / (x[True] + x[False])\n",
        ").assign(\n",
        "    total_sample = lambda x: x[True] + x[False])\n",
        "\n",
        "  return conv_calculation"
      ],
      "metadata": {
        "id": "MU7Up3YRpczP"
      },
      "execution_count": null,
      "outputs": []
    },
    {
      "cell_type": "code",
      "source": [
        ""
      ],
      "metadata": {
        "id": "qDadMum-6GyI"
      },
      "execution_count": null,
      "outputs": []
    },
    {
      "cell_type": "code",
      "source": [
        "conv_calculation = conv_calc(raw_data)"
      ],
      "metadata": {
        "id": "xwZSwdaByuBZ"
      },
      "execution_count": null,
      "outputs": []
    },
    {
      "cell_type": "markdown",
      "source": [
        "Check calculation result"
      ],
      "metadata": {
        "id": "uiNZFXwjt8J_"
      }
    },
    {
      "cell_type": "code",
      "source": [
        "conv_calculation "
      ],
      "metadata": {
        "id": "D9YSwE96t_hB",
        "colab": {
          "base_uri": "https://localhost:8080/",
          "height": 112
        },
        "outputId": "0baea12a-1f06-4290-994b-b92b56db3e93"
      },
      "execution_count": null,
      "outputs": [
        {
          "output_type": "execute_result",
          "data": {
            "text/plain": [
              "converted          variant  False  True  conv_percent  total_sample\n",
              "0                  control    152   112     42.424242           264\n",
              "1          personalization     73   237     76.451613           310"
            ],
            "text/html": [
              "\n",
              "  <div id=\"df-828ae63d-43bc-4db1-97a3-0b241fb6810b\">\n",
              "    <div class=\"colab-df-container\">\n",
              "      <div>\n",
              "<style scoped>\n",
              "    .dataframe tbody tr th:only-of-type {\n",
              "        vertical-align: middle;\n",
              "    }\n",
              "\n",
              "    .dataframe tbody tr th {\n",
              "        vertical-align: top;\n",
              "    }\n",
              "\n",
              "    .dataframe thead th {\n",
              "        text-align: right;\n",
              "    }\n",
              "</style>\n",
              "<table border=\"1\" class=\"dataframe\">\n",
              "  <thead>\n",
              "    <tr style=\"text-align: right;\">\n",
              "      <th>converted</th>\n",
              "      <th>variant</th>\n",
              "      <th>False</th>\n",
              "      <th>True</th>\n",
              "      <th>conv_percent</th>\n",
              "      <th>total_sample</th>\n",
              "    </tr>\n",
              "  </thead>\n",
              "  <tbody>\n",
              "    <tr>\n",
              "      <th>0</th>\n",
              "      <td>control</td>\n",
              "      <td>152</td>\n",
              "      <td>112</td>\n",
              "      <td>42.424242</td>\n",
              "      <td>264</td>\n",
              "    </tr>\n",
              "    <tr>\n",
              "      <th>1</th>\n",
              "      <td>personalization</td>\n",
              "      <td>73</td>\n",
              "      <td>237</td>\n",
              "      <td>76.451613</td>\n",
              "      <td>310</td>\n",
              "    </tr>\n",
              "  </tbody>\n",
              "</table>\n",
              "</div>\n",
              "      <button class=\"colab-df-convert\" onclick=\"convertToInteractive('df-828ae63d-43bc-4db1-97a3-0b241fb6810b')\"\n",
              "              title=\"Convert this dataframe to an interactive table.\"\n",
              "              style=\"display:none;\">\n",
              "        \n",
              "  <svg xmlns=\"http://www.w3.org/2000/svg\" height=\"24px\"viewBox=\"0 0 24 24\"\n",
              "       width=\"24px\">\n",
              "    <path d=\"M0 0h24v24H0V0z\" fill=\"none\"/>\n",
              "    <path d=\"M18.56 5.44l.94 2.06.94-2.06 2.06-.94-2.06-.94-.94-2.06-.94 2.06-2.06.94zm-11 1L8.5 8.5l.94-2.06 2.06-.94-2.06-.94L8.5 2.5l-.94 2.06-2.06.94zm10 10l.94 2.06.94-2.06 2.06-.94-2.06-.94-.94-2.06-.94 2.06-2.06.94z\"/><path d=\"M17.41 7.96l-1.37-1.37c-.4-.4-.92-.59-1.43-.59-.52 0-1.04.2-1.43.59L10.3 9.45l-7.72 7.72c-.78.78-.78 2.05 0 2.83L4 21.41c.39.39.9.59 1.41.59.51 0 1.02-.2 1.41-.59l7.78-7.78 2.81-2.81c.8-.78.8-2.07 0-2.86zM5.41 20L4 18.59l7.72-7.72 1.47 1.35L5.41 20z\"/>\n",
              "  </svg>\n",
              "      </button>\n",
              "      \n",
              "  <style>\n",
              "    .colab-df-container {\n",
              "      display:flex;\n",
              "      flex-wrap:wrap;\n",
              "      gap: 12px;\n",
              "    }\n",
              "\n",
              "    .colab-df-convert {\n",
              "      background-color: #E8F0FE;\n",
              "      border: none;\n",
              "      border-radius: 50%;\n",
              "      cursor: pointer;\n",
              "      display: none;\n",
              "      fill: #1967D2;\n",
              "      height: 32px;\n",
              "      padding: 0 0 0 0;\n",
              "      width: 32px;\n",
              "    }\n",
              "\n",
              "    .colab-df-convert:hover {\n",
              "      background-color: #E2EBFA;\n",
              "      box-shadow: 0px 1px 2px rgba(60, 64, 67, 0.3), 0px 1px 3px 1px rgba(60, 64, 67, 0.15);\n",
              "      fill: #174EA6;\n",
              "    }\n",
              "\n",
              "    [theme=dark] .colab-df-convert {\n",
              "      background-color: #3B4455;\n",
              "      fill: #D2E3FC;\n",
              "    }\n",
              "\n",
              "    [theme=dark] .colab-df-convert:hover {\n",
              "      background-color: #434B5C;\n",
              "      box-shadow: 0px 1px 3px 1px rgba(0, 0, 0, 0.15);\n",
              "      filter: drop-shadow(0px 1px 2px rgba(0, 0, 0, 0.3));\n",
              "      fill: #FFFFFF;\n",
              "    }\n",
              "  </style>\n",
              "\n",
              "      <script>\n",
              "        const buttonEl =\n",
              "          document.querySelector('#df-828ae63d-43bc-4db1-97a3-0b241fb6810b button.colab-df-convert');\n",
              "        buttonEl.style.display =\n",
              "          google.colab.kernel.accessAllowed ? 'block' : 'none';\n",
              "\n",
              "        async function convertToInteractive(key) {\n",
              "          const element = document.querySelector('#df-828ae63d-43bc-4db1-97a3-0b241fb6810b');\n",
              "          const dataTable =\n",
              "            await google.colab.kernel.invokeFunction('convertToInteractive',\n",
              "                                                     [key], {});\n",
              "          if (!dataTable) return;\n",
              "\n",
              "          const docLinkHtml = 'Like what you see? Visit the ' +\n",
              "            '<a target=\"_blank\" href=https://colab.research.google.com/notebooks/data_table.ipynb>data table notebook</a>'\n",
              "            + ' to learn more about interactive tables.';\n",
              "          element.innerHTML = '';\n",
              "          dataTable['output_type'] = 'display_data';\n",
              "          await google.colab.output.renderOutput(dataTable, element);\n",
              "          const docLink = document.createElement('div');\n",
              "          docLink.innerHTML = docLinkHtml;\n",
              "          element.appendChild(docLink);\n",
              "        }\n",
              "      </script>\n",
              "    </div>\n",
              "  </div>\n",
              "  "
            ]
          },
          "metadata": {},
          "execution_count": 293
        }
      ]
    },
    {
      "cell_type": "markdown",
      "source": [
        "Calculate uplift of B"
      ],
      "metadata": {
        "id": "8nRzKIJXrTIX"
      }
    },
    {
      "cell_type": "code",
      "source": [
        "def lift(a,b):\n",
        "    # Calcuate the mean of a and b\n",
        "    a_mean = np.mean(a)\n",
        "    b_mean = np.mean(b)\n",
        "    \n",
        "    # Calculate the lift using a_mean and b_mean\n",
        "    lift = (b_mean  - a_mean)/ a_mean\n",
        "  \n",
        "    return str(round(lift*100, 2)) + '%'"
      ],
      "metadata": {
        "id": "ZVY0lapAqBUs"
      },
      "execution_count": null,
      "outputs": []
    },
    {
      "cell_type": "code",
      "source": [
        "conv_A = conv_calculation[conv_calculation['variant'] == 'control']['conv_percent'].values\n",
        "conv_B = conv_calculation[conv_calculation['variant'] == 'personalization']['conv_percent'].values"
      ],
      "metadata": {
        "id": "7Y8FS2LOt1fD"
      },
      "execution_count": null,
      "outputs": []
    },
    {
      "cell_type": "code",
      "source": [
        "lift(conv_A,conv_B)"
      ],
      "metadata": {
        "id": "bzX0hPswwj6N",
        "colab": {
          "base_uri": "https://localhost:8080/",
          "height": 37
        },
        "outputId": "9dc67b67-6353-4f9e-c065-54e508384ce8"
      },
      "execution_count": null,
      "outputs": [
        {
          "output_type": "execute_result",
          "data": {
            "text/plain": [
              "'80.21%'"
            ],
            "application/vnd.google.colaboratory.intrinsic+json": {
              "type": "string"
            }
          },
          "metadata": {},
          "execution_count": 239
        }
      ]
    },
    {
      "cell_type": "markdown",
      "source": [
        "We see there are 80% uplift of B compared to A"
      ],
      "metadata": {
        "id": "X9Ll5tk2wtWq"
      }
    },
    {
      "cell_type": "markdown",
      "source": [
        "Do chi-squared test"
      ],
      "metadata": {
        "id": "4Sc2KYAHwzbr"
      }
    },
    {
      "cell_type": "code",
      "source": [
        "# find number of succession\n",
        "success = conv_calculation[['total_sample', True]].values[:,1]\n",
        "# find number of all observations\n",
        "obs = conv_calculation[['total_sample', True]].values[:,0]"
      ],
      "metadata": {
        "id": "oePKgqiiys9h"
      },
      "execution_count": null,
      "outputs": []
    },
    {
      "cell_type": "code",
      "source": [
        "success"
      ],
      "metadata": {
        "colab": {
          "base_uri": "https://localhost:8080/"
        },
        "id": "g9JFubMUti8e",
        "outputId": "629f315e-e23e-421a-ad22-c8dc1d7709b1"
      },
      "execution_count": null,
      "outputs": [
        {
          "output_type": "execute_result",
          "data": {
            "text/plain": [
              "array([112, 237])"
            ]
          },
          "metadata": {},
          "execution_count": 241
        }
      ]
    },
    {
      "cell_type": "code",
      "source": [
        "result = proportions_chisquare(success, obs)"
      ],
      "metadata": {
        "id": "eNPfP7e7y2bh"
      },
      "execution_count": null,
      "outputs": []
    },
    {
      "cell_type": "code",
      "source": [
        "# Calculate chi squared result\n",
        "print('X-squared: %.3f' % result[0])\n",
        "print('p-value: %.3f' % result[1])"
      ],
      "metadata": {
        "id": "l-ehQomD0Kjv",
        "colab": {
          "base_uri": "https://localhost:8080/"
        },
        "outputId": "09ef9039-038d-400b-d2d9-fb55c87b59fd"
      },
      "execution_count": null,
      "outputs": [
        {
          "output_type": "stream",
          "name": "stdout",
          "text": [
            "X-squared: 69.267\n",
            "p-value: 0.000\n"
          ]
        }
      ]
    },
    {
      "cell_type": "markdown",
      "source": [
        "**Interpretation**\n",
        "\n",
        "- Variant control has 112 conversions compared to variant personalization has 237\n",
        "- Relative uplift of personalization (76.45%) from control (41.95%) around 82.26%\n",
        "- p-value computed is 0.000 < 0.05, hence there is strong statistical significance in test results. Then, we should reject null hypothesis and proceed to launch variant personalization, but for young adults or for older customers? We need to another A/B testing for each age group"
      ],
      "metadata": {
        "id": "oXX2HBaB0eDw"
      }
    },
    {
      "cell_type": "markdown",
      "source": [
        "## A/B testing for each age group"
      ],
      "metadata": {
        "id": "cH-sAWK780hD"
      }
    },
    {
      "cell_type": "code",
      "source": [
        "# seperate data for young adults and elders\n",
        "marketing = raw_data"
      ],
      "metadata": {
        "id": "jJglbjq9jvxa"
      },
      "execution_count": null,
      "outputs": []
    },
    {
      "cell_type": "code",
      "source": [
        "def ab_segmentation(segment):\n",
        "  # Build a for loop for each segment in marketing\n",
        "    for subsegment in np.unique(marketing[segment]):\n",
        "        print(subsegment)   \n",
        "        # Limit marketing to email and subsegment      \n",
        "        df = marketing[(marketing[segment] == subsegment)]\n",
        "        conv_calculation = conv_calc(df)\n",
        "        conv_A = conv_calculation[conv_calculation['variant'] == 'control']['conv_percent'].values\n",
        "        conv_B = conv_calculation[conv_calculation['variant'] == 'personalization']['conv_percent'].values\n",
        "        # find number of succession\n",
        "        success = conv_calculation[['total_sample', True]].values[:,1]\n",
        "        # find number of all observations\n",
        "        obs = conv_calculation[['total_sample', True]].values[:,0]\n",
        "        result = proportions_chisquare(success, obs)\n",
        "        print('lift:', lift(conv_A, conv_B))\n",
        "        # Calculate chi squared result\n",
        "        #print('X-squared: %.3f' % result[0])\n",
        "        print('p-value: %.3f' % result[1])\n",
        "        print(\"########\")"
      ],
      "metadata": {
        "id": "O-U3VRTNpriz"
      },
      "execution_count": null,
      "outputs": []
    },
    {
      "cell_type": "code",
      "source": [
        ""
      ],
      "metadata": {
        "id": "ZEAloCth4cpy"
      },
      "execution_count": null,
      "outputs": []
    },
    {
      "cell_type": "code",
      "source": [
        "from scipy import stats\n",
        "ab_segmentation('age_group')"
      ],
      "metadata": {
        "colab": {
          "base_uri": "https://localhost:8080/"
        },
        "id": "yx4_TOzlp33_",
        "outputId": "3443719a-ca71-4718-ef54-7a1da2f39ef7"
      },
      "execution_count": null,
      "outputs": [
        {
          "output_type": "stream",
          "name": "stdout",
          "text": [
            "0-18 years\n",
            "lift: 81.9%\n",
            "p-value: 0.001\n",
            "########\n",
            "19-24 years\n",
            "lift: 99.38%\n",
            "p-value: 0.000\n",
            "########\n",
            "24-30 years\n",
            "lift: 98.28%\n",
            "p-value: 0.000\n",
            "########\n",
            "30-36 years\n",
            "lift: 135.71%\n",
            "p-value: 0.002\n",
            "########\n",
            "36-45 years\n",
            "lift: 97.37%\n",
            "p-value: 0.011\n",
            "########\n",
            "45-55 years\n",
            "lift: 104.86%\n",
            "p-value: 0.006\n",
            "########\n",
            "55+ years\n",
            "lift: -7.11%\n",
            "p-value: 0.702\n",
            "########\n"
          ]
        }
      ]
    },
    {
      "cell_type": "markdown",
      "source": [
        "Interpretation\n",
        "\n",
        "Among age groups, our personalisation variant is not better than control variant and vice versa (p_value > 0.05), therefore we can keep control variant for age group 55+ years"
      ],
      "metadata": {
        "id": "bcfrNEAO2VTM"
      }
    },
    {
      "cell_type": "markdown",
      "source": [
        "Lets do another ab testing for each marketing channel after we exclude age >55 years"
      ],
      "metadata": {
        "id": "V9EtscGN2wzr"
      }
    },
    {
      "cell_type": "markdown",
      "source": [
        "## A/B testing for each marketing channel"
      ],
      "metadata": {
        "id": "84LfUtxq89RV"
      }
    },
    {
      "cell_type": "code",
      "source": [
        "def is_young(ag):\n",
        "  if ag in ['55+ years']:\n",
        "    return 0\n",
        "  else:\n",
        "    return 1"
      ],
      "metadata": {
        "id": "uFh2MAIXk-5r"
      },
      "execution_count": null,
      "outputs": []
    },
    {
      "cell_type": "code",
      "source": [
        "\n",
        "raw_data[\"is_young\"]=raw_data[\"age_group\"].apply(is_young)"
      ],
      "metadata": {
        "id": "vpCx311mkzfp"
      },
      "execution_count": null,
      "outputs": []
    },
    {
      "cell_type": "code",
      "source": [
        "marketing = raw_data.loc[raw_data[\"is_young\"]==1]"
      ],
      "metadata": {
        "id": "deNr2X_Pkh9d"
      },
      "execution_count": null,
      "outputs": []
    },
    {
      "cell_type": "code",
      "source": [
        "marketing.info()"
      ],
      "metadata": {
        "colab": {
          "base_uri": "https://localhost:8080/"
        },
        "id": "7J5LVURL3vXD",
        "outputId": "12a58db1-e382-4e5d-d5be-c2c3282fb75c"
      },
      "execution_count": null,
      "outputs": [
        {
          "output_type": "stream",
          "name": "stdout",
          "text": [
            "<class 'pandas.core.frame.DataFrame'>\n",
            "Int64Index: 540 entries, 0 to 573\n",
            "Data columns (total 14 columns):\n",
            " #   Column               Non-Null Count  Dtype \n",
            "---  ------               --------------  ----- \n",
            " 0   user_id              540 non-null    object\n",
            " 1   date_served          540 non-null    object\n",
            " 2   marketing_channel    540 non-null    object\n",
            " 3   variant              540 non-null    object\n",
            " 4   converted            540 non-null    bool  \n",
            " 5   language_displayed   540 non-null    object\n",
            " 6   language_preferred   540 non-null    int64 \n",
            " 7   age_group            540 non-null    object\n",
            " 8   date_subscribed      540 non-null    object\n",
            " 9   date_canceled        540 non-null    object\n",
            " 10  subscribing_channel  540 non-null    object\n",
            " 11  is_retained          540 non-null    bool  \n",
            " 12  conversion           540 non-null    int64 \n",
            " 13  is_young             540 non-null    int64 \n",
            "dtypes: bool(2), int64(3), object(9)\n",
            "memory usage: 55.9+ KB\n"
          ]
        }
      ]
    },
    {
      "cell_type": "code",
      "source": [
        "ab_segmentation('marketing_channel')"
      ],
      "metadata": {
        "colab": {
          "base_uri": "https://localhost:8080/"
        },
        "id": "-D_Rh6YAmKIM",
        "outputId": "20050322-62d1-4ecb-ecfc-8f46d7e734de"
      },
      "execution_count": null,
      "outputs": [
        {
          "output_type": "stream",
          "name": "stdout",
          "text": [
            "Email\n",
            "lift: -27.59%\n",
            "p-value: 0.010\n",
            "########\n",
            "Facebook\n",
            "lift: 616.51%\n",
            "p-value: 0.000\n",
            "########\n",
            "House Ads\n",
            "lift: 7.3%\n",
            "p-value: 0.607\n",
            "########\n",
            "Instagram\n",
            "lift: 278.67%\n",
            "p-value: 0.000\n",
            "########\n",
            "Push\n",
            "lift: 1178.26%\n",
            "p-value: 0.000\n",
            "########\n"
          ]
        }
      ]
    },
    {
      "cell_type": "markdown",
      "source": [
        "Interpration:\n",
        "Based on statistical test on each marketing channel, we can see that variant personalisation for email is actually worst then variant control, and our a/b testing experiment failed for House Ads marketing channel"
      ],
      "metadata": {
        "id": "0XEJM6Mq8Sf9"
      }
    },
    {
      "cell_type": "markdown",
      "source": [
        "Recommendation : \n",
        "\n",
        "\n",
        "1.   we stop using variant personalisation for email marketing channel\n",
        "2.   We deep dive to explore why our experiment on House Ads failed, maybe it is related with language preference and language displayed\n",
        "\n"
      ],
      "metadata": {
        "id": "3KgXTL1E8kaf"
      }
    },
    {
      "cell_type": "markdown",
      "source": [
        "# NOMOR 3\n",
        "\n",
        "**Buatlah presentasi berdasarkan hasil riset anda disertai dengan actionable insights/rekomendasi berdasarkan hasil analisis**"
      ],
      "metadata": {
        "id": "olVBoViqAdZG"
      }
    },
    {
      "cell_type": "markdown",
      "source": [
        "Link GSlide : https://docs.google.com/presentation/d/1ppvHt8e139JcPLdC-qN36PAVaOlrtRYu_908VcDGZ_s/edit?usp=sharing"
      ],
      "metadata": {
        "id": "wRHxC3FPBi5e"
      }
    }
  ]
}